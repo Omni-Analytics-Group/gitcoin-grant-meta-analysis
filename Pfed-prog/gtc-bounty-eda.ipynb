{
 "cells": [
  {
   "cell_type": "code",
   "execution_count": 1,
   "id": "4314e7fa",
   "metadata": {
    "execution": {
     "iopub.execute_input": "2022-01-01T06:43:28.479803Z",
     "iopub.status.busy": "2022-01-01T06:43:28.478679Z",
     "iopub.status.idle": "2022-01-01T06:43:30.206180Z",
     "shell.execute_reply": "2022-01-01T06:43:30.205465Z"
    },
    "jupyter": {
     "source_hidden": true
    },
    "papermill": {
     "duration": 1.755368,
     "end_time": "2022-01-01T06:43:30.206357",
     "exception": false,
     "start_time": "2022-01-01T06:43:28.450989",
     "status": "completed"
    },
    "tags": []
   },
   "outputs": [
    {
     "name": "stderr",
     "output_type": "stream",
     "text": [
      "/opt/conda/lib/python3.7/site-packages/geopandas/_compat.py:115: UserWarning: The Shapely GEOS version (3.9.1-CAPI-1.14.2) is incompatible with the GEOS version PyGEOS was compiled with (3.10.0-CAPI-1.16.0). Conversions between both will be slow.\n",
      "  shapely_geos_version, geos_capi_version_string\n"
     ]
    }
   ],
   "source": [
    "import numpy as np\n",
    "import pandas as pd\n",
    "import geopandas as gpd\n",
    "import matplotlib.pyplot as plt\n",
    "import matplotlib\n",
    "import seaborn as sns\n",
    "from plotly import tools\n",
    "import plotly.graph_objs as go\n",
    "from plotly.offline import iplot\n",
    "\n",
    "import missingno as msno\n",
    "pd.set_option('display.max_columns', None)\n",
    "pd.options.display.max_colwidth = 100"
   ]
  },
  {
   "cell_type": "markdown",
   "id": "a22a9951",
   "metadata": {
    "papermill": {
     "duration": 0.022598,
     "end_time": "2022-01-01T06:43:30.255531",
     "exception": false,
     "start_time": "2022-01-01T06:43:30.232933",
     "status": "completed"
    },
    "tags": []
   },
   "source": [
    "# Rounds Data"
   ]
  },
  {
   "cell_type": "code",
   "execution_count": 2,
   "id": "2ef32763",
   "metadata": {
    "execution": {
     "iopub.execute_input": "2022-01-01T06:43:30.305919Z",
     "iopub.status.busy": "2022-01-01T06:43:30.304832Z",
     "iopub.status.idle": "2022-01-01T06:43:30.359443Z",
     "shell.execute_reply": "2022-01-01T06:43:30.358860Z"
    },
    "papermill": {
     "duration": 0.081001,
     "end_time": "2022-01-01T06:43:30.359582",
     "exception": false,
     "start_time": "2022-01-01T06:43:30.278581",
     "status": "completed"
    },
    "tags": []
   },
   "outputs": [],
   "source": [
    "rdata = pd.read_csv(\"../input/grallrounds/rounds.csv\", parse_dates=['start_date']).sort_values('start_date').reset_index(drop=True)\n",
    "rdata = rdata[(rdata.round_num > 2)|(rdata.index<3)].reset_index(drop=True)\n",
    "\n",
    "def text(row):\n",
    "    if (row[0]=='g')&((row[2]=='1')):\n",
    "        return row[5:]\n",
    "    elif (row[0]=='g'):\n",
    "        return row[4:]\n",
    "    else:\n",
    "        return row\n",
    "    \n",
    "rdata['slug'] = rdata.sub_round_slug.apply(text)"
   ]
  },
  {
   "cell_type": "code",
   "execution_count": 3,
   "id": "bc774228",
   "metadata": {
    "execution": {
     "iopub.execute_input": "2022-01-01T06:43:30.408060Z",
     "iopub.status.busy": "2022-01-01T06:43:30.407472Z",
     "iopub.status.idle": "2022-01-01T06:43:30.947496Z",
     "shell.execute_reply": "2022-01-01T06:43:30.947969Z"
    },
    "jupyter": {
     "source_hidden": true
    },
    "papermill": {
     "duration": 0.566067,
     "end_time": "2022-01-01T06:43:30.948149",
     "exception": false,
     "start_time": "2022-01-01T06:43:30.382082",
     "status": "completed"
    },
    "tags": []
   },
   "outputs": [
    {
     "name": "stderr",
     "output_type": "stream",
     "text": [
      "/opt/conda/lib/python3.7/site-packages/seaborn/_decorators.py:43: FutureWarning:\n",
      "\n",
      "Pass the following variable as a keyword arg: x. From version 0.12, the only valid positional argument will be `data`, and passing other arguments without an explicit keyword will result in an error or misinterpretation.\n",
      "\n"
     ]
    },
    {
     "data": {
      "image/png": "[encoded data removed]",
      "text/plain": [
       "<Figure size 1872x1080 with 1 Axes>"
      ]
     },
     "metadata": {
      "needs_background": "light"
     },
     "output_type": "display_data"
    }
   ],
   "source": [
    "plt.figure(figsize=(26,15))\n",
    "sns.countplot(rdata.slug, data = rdata, order = rdata.slug.value_counts().index, palette='cool', orient='v')\n",
    "plt.title('Count of Rounds')\n",
    "\n",
    "plt.savefig('Count of Rounds.png', format='png')"
   ]
  },
  {
   "cell_type": "code",
   "execution_count": 4,
   "id": "1b7ba7df",
   "metadata": {
    "execution": {
     "iopub.execute_input": "2022-01-01T06:43:30.999683Z",
     "iopub.status.busy": "2022-01-01T06:43:30.998754Z",
     "iopub.status.idle": "2022-01-01T06:43:31.870799Z",
     "shell.execute_reply": "2022-01-01T06:43:31.871268Z"
    },
    "jupyter": {
     "source_hidden": true
    },
    "papermill": {
     "duration": 0.899151,
     "end_time": "2022-01-01T06:43:31.871434",
     "exception": false,
     "start_time": "2022-01-01T06:43:30.972283",
     "status": "completed"
    },
    "tags": []
   },
   "outputs": [
    {
     "data": {
      "text/html": [
       "        <script type=\"text/javascript\">\n",
       "        window.PlotlyConfig = {MathJaxConfig: 'local'};\n",
       "        if (window.MathJax) {MathJax.Hub.Config({SVG: {font: \"STIX-Web\"}});}\n",
       "        if (typeof require !== 'undefined') {\n",
       "        require.undef(\"plotly\");\n",
       "        requirejs.config({\n",
       "            paths: {\n",
       "                'plotly': ['https://cdn.plot.ly/plotly-2.6.3.min']\n",
       "            }\n",
       "        });\n",
       "        require(['plotly'], function(Plotly) {\n",
       "            window._Plotly = Plotly;\n",
       "        });\n",
       "        }\n",
       "        </script>\n",
       "        "
      ]
     },
     "metadata": {},
     "output_type": "display_data"
    },
    {
     "data": {
      "text/html": [
       "<div>                            <div id=\"4f7eb643-e2e4-4aad-b47f-54c4224fdb84\" class=\"plotly-graph-div\" style=\"height:525px; width:100%;\"></div>            <script type=\"text/javascript\">                require([\"plotly\"], function(Plotly) {                    window.PLOTLYENV=window.PLOTLYENV || {};                                    if (document.getElementById(\"4f7eb643-e2e4-4aad-b47f-54c4224fdb84\")) {                    Plotly.newPlot(                        \"4f7eb643-e2e4-4aad-b47f-54c4224fdb84\",                        [{\"marker\":{\"color\":\"rgba(16, 112, 2, 0.8)\"},\"mode\":\"lines+markers\",\"name\":\"nft\",\"text\":[131.0,135.0,143.0],\"x\":[9,10,11],\"y\":[50000,48750,80000],\"type\":\"scatter\"},{\"marker\":{\"color\":\"rgba(80, 26, 80, 0.8)\"},\"mode\":\"lines+markers\",\"name\":\"infra\",\"text\":[3.0,16.0,118.0,133.0,140.0],\"x\":[7,8,9,10,11],\"y\":[150000,100000,150000,195000,200000],\"type\":\"scatter\"},{\"marker\":{\"color\":\"rgba(160, 26, 30, 0.8)\"},\"mode\":\"lines+markers\",\"name\":\"community\",\"text\":[4.0,17.0,120.0,137.0,142.0],\"x\":[7,8,9,10,11],\"y\":[150000,100000,125000,130000,160000],\"type\":\"scatter\"},{\"marker\":{\"color\":\"rgba(160, 160, 30, 0.8)\"},\"mode\":\"lines+markers\",\"name\":\"dapp\",\"text\":[4.0,17.0,120.0,137.0,142.0],\"x\":[7,8,9,10,11],\"y\":[150000,100000,125000,162500,200000],\"type\":\"scatter\"}],                        {\"template\":{\"data\":{\"barpolar\":[{\"marker\":{\"line\":{\"color\":\"#E5ECF6\",\"width\":0.5},\"pattern\":{\"fillmode\":\"overlay\",\"size\":10,\"solidity\":0.2}},\"type\":\"barpolar\"}],\"bar\":[{\"error_x\":{\"color\":\"#2a3f5f\"},\"error_y\":{\"color\":\"#2a3f5f\"},\"marker\":{\"line\":{\"color\":\"#E5ECF6\",\"width\":0.5},\"pattern\":{\"fillmode\":\"overlay\",\"size\":10,\"solidity\":0.2}},\"type\":\"bar\"}],\"carpet\":[{\"aaxis\":{\"endlinecolor\":\"#2a3f5f\",\"gridcolor\":\"white\",\"linecolor\":\"white\",\"minorgridcolor\":\"white\",\"startlinecolor\":\"#2a3f5f\"},\"baxis\":{\"endlinecolor\":\"#2a3f5f\",\"gridcolor\":\"white\",\"linecolor\":\"white\",\"minorgridcolor\":\"white\",\"startlinecolor\":\"#2a3f5f\"},\"type\":\"carpet\"}],\"choropleth\":[{\"colorbar\":{\"outlinewidth\":0,\"ticks\":\"\"},\"type\":\"choropleth\"}],\"contourcarpet\":[{\"colorbar\":{\"outlinewidth\":0,\"ticks\":\"\"},\"type\":\"contourcarpet\"}],\"contour\":[{\"colorbar\":{\"outlinewidth\":0,\"ticks\":\"\"},\"colorscale\":[[0.0,\"#0d0887\"],[0.1111111111111111,\"#46039f\"],[0.2222222222222222,\"#7201a8\"],[0.3333333333333333,\"#9c179e\"],[0.4444444444444444,\"#bd3786\"],[0.5555555555555556,\"#d8576b\"],[0.6666666666666666,\"#ed7953\"],[0.7777777777777778,\"#fb9f3a\"],[0.8888888888888888,\"#fdca26\"],[1.0,\"#f0f921\"]],\"type\":\"contour\"}],\"heatmapgl\":[{\"colorbar\":{\"outlinewidth\":0,\"ticks\":\"\"},\"colorscale\":[[0.0,\"#0d0887\"],[0.1111111111111111,\"#46039f\"],[0.2222222222222222,\"#7201a8\"],[0.3333333333333333,\"#9c179e\"],[0.4444444444444444,\"#bd3786\"],[0.5555555555555556,\"#d8576b\"],[0.6666666666666666,\"#ed7953\"],[0.7777777777777778,\"#fb9f3a\"],[0.8888888888888888,\"#fdca26\"],[1.0,\"#f0f921\"]],\"type\":\"heatmapgl\"}],\"heatmap\":[{\"colorbar\":{\"outlinewidth\":0,\"ticks\":\"\"},\"colorscale\":[[0.0,\"#0d0887\"],[0.1111111111111111,\"#46039f\"],[0.2222222222222222,\"#7201a8\"],[0.3333333333333333,\"#9c179e\"],[0.4444444444444444,\"#bd3786\"],[0.5555555555555556,\"#d8576b\"],[0.6666666666666666,\"#ed7953\"],[0.7777777777777778,\"#fb9f3a\"],[0.8888888888888888,\"#fdca26\"],[1.0,\"#f0f921\"]],\"type\":\"heatmap\"}],\"histogram2dcontour\":[{\"colorbar\":{\"outlinewidth\":0,\"ticks\":\"\"},\"colorscale\":[[0.0,\"#0d0887\"],[0.1111111111111111,\"#46039f\"],[0.2222222222222222,\"#7201a8\"],[0.3333333333333333,\"#9c179e\"],[0.4444444444444444,\"#bd3786\"],[0.5555555555555556,\"#d8576b\"],[0.6666666666666666,\"#ed7953\"],[0.7777777777777778,\"#fb9f3a\"],[0.8888888888888888,\"#fdca26\"],[1.0,\"#f0f921\"]],\"type\":\"histogram2dcontour\"}],\"histogram2d\":[{\"colorbar\":{\"outlinewidth\":0,\"ticks\":\"\"},\"colorscale\":[[0.0,\"#0d0887\"],[0.1111111111111111,\"#46039f\"],[0.2222222222222222,\"#7201a8\"],[0.3333333333333333,\"#9c179e\"],[0.4444444444444444,\"#bd3786\"],[0.5555555555555556,\"#d8576b\"],[0.6666666666666666,\"#ed7953\"],[0.7777777777777778,\"#fb9f3a\"],[0.8888888888888888,\"#fdca26\"],[1.0,\"#f0f921\"]],\"type\":\"histogram2d\"}],\"histogram\":[{\"marker\":{\"pattern\":{\"fillmode\":\"overlay\",\"size\":10,\"solidity\":0.2}},\"type\":\"histogram\"}],\"mesh3d\":[{\"colorbar\":{\"outlinewidth\":0,\"ticks\":\"\"},\"type\":\"mesh3d\"}],\"parcoords\":[{\"line\":{\"colorbar\":{\"outlinewidth\":0,\"ticks\":\"\"}},\"type\":\"parcoords\"}],\"pie\":[{\"automargin\":true,\"type\":\"pie\"}],\"scatter3d\":[{\"line\":{\"colorbar\":{\"outlinewidth\":0,\"ticks\":\"\"}},\"marker\":{\"colorbar\":{\"outlinewidth\":0,\"ticks\":\"\"}},\"type\":\"scatter3d\"}],\"scattercarpet\":[{\"marker\":{\"colorbar\":{\"outlinewidth\":0,\"ticks\":\"\"}},\"type\":\"scattercarpet\"}],\"scattergeo\":[{\"marker\":{\"colorbar\":{\"outlinewidth\":0,\"ticks\":\"\"}},\"type\":\"scattergeo\"}],\"scattergl\":[{\"marker\":{\"colorbar\":{\"outlinewidth\":0,\"ticks\":\"\"}},\"type\":\"scattergl\"}],\"scattermapbox\":[{\"marker\":{\"colorbar\":{\"outlinewidth\":0,\"ticks\":\"\"}},\"type\":\"scattermapbox\"}],\"scatterpolargl\":[{\"marker\":{\"colorbar\":{\"outlinewidth\":0,\"ticks\":\"\"}},\"type\":\"scatterpolargl\"}],\"scatterpolar\":[{\"marker\":{\"colorbar\":{\"outlinewidth\":0,\"ticks\":\"\"}},\"type\":\"scatterpolar\"}],\"scatter\":[{\"marker\":{\"colorbar\":{\"outlinewidth\":0,\"ticks\":\"\"}},\"type\":\"scatter\"}],\"scatterternary\":[{\"marker\":{\"colorbar\":{\"outlinewidth\":0,\"ticks\":\"\"}},\"type\":\"scatterternary\"}],\"surface\":[{\"colorbar\":{\"outlinewidth\":0,\"ticks\":\"\"},\"colorscale\":[[0.0,\"#0d0887\"],[0.1111111111111111,\"#46039f\"],[0.2222222222222222,\"#7201a8\"],[0.3333333333333333,\"#9c179e\"],[0.4444444444444444,\"#bd3786\"],[0.5555555555555556,\"#d8576b\"],[0.6666666666666666,\"#ed7953\"],[0.7777777777777778,\"#fb9f3a\"],[0.8888888888888888,\"#fdca26\"],[1.0,\"#f0f921\"]],\"type\":\"surface\"}],\"table\":[{\"cells\":{\"fill\":{\"color\":\"#EBF0F8\"},\"line\":{\"color\":\"white\"}},\"header\":{\"fill\":{\"color\":\"#C8D4E3\"},\"line\":{\"color\":\"white\"}},\"type\":\"table\"}]},\"layout\":{\"annotationdefaults\":{\"arrowcolor\":\"#2a3f5f\",\"arrowhead\":0,\"arrowwidth\":1},\"autotypenumbers\":\"strict\",\"coloraxis\":{\"colorbar\":{\"outlinewidth\":0,\"ticks\":\"\"}},\"colorscale\":{\"diverging\":[[0,\"#8e0152\"],[0.1,\"#c51b7d\"],[0.2,\"#de77ae\"],[0.3,\"#f1b6da\"],[0.4,\"#fde0ef\"],[0.5,\"#f7f7f7\"],[0.6,\"#e6f5d0\"],[0.7,\"#b8e186\"],[0.8,\"#7fbc41\"],[0.9,\"#4d9221\"],[1,\"#276419\"]],\"sequential\":[[0.0,\"#0d0887\"],[0.1111111111111111,\"#46039f\"],[0.2222222222222222,\"#7201a8\"],[0.3333333333333333,\"#9c179e\"],[0.4444444444444444,\"#bd3786\"],[0.5555555555555556,\"#d8576b\"],[0.6666666666666666,\"#ed7953\"],[0.7777777777777778,\"#fb9f3a\"],[0.8888888888888888,\"#fdca26\"],[1.0,\"#f0f921\"]],\"sequentialminus\":[[0.0,\"#0d0887\"],[0.1111111111111111,\"#46039f\"],[0.2222222222222222,\"#7201a8\"],[0.3333333333333333,\"#9c179e\"],[0.4444444444444444,\"#bd3786\"],[0.5555555555555556,\"#d8576b\"],[0.6666666666666666,\"#ed7953\"],[0.7777777777777778,\"#fb9f3a\"],[0.8888888888888888,\"#fdca26\"],[1.0,\"#f0f921\"]]},\"colorway\":[\"#636efa\",\"#EF553B\",\"#00cc96\",\"#ab63fa\",\"#FFA15A\",\"#19d3f3\",\"#FF6692\",\"#B6E880\",\"#FF97FF\",\"#FECB52\"],\"font\":{\"color\":\"#2a3f5f\"},\"geo\":{\"bgcolor\":\"white\",\"lakecolor\":\"white\",\"landcolor\":\"#E5ECF6\",\"showlakes\":true,\"showland\":true,\"subunitcolor\":\"white\"},\"hoverlabel\":{\"align\":\"left\"},\"hovermode\":\"closest\",\"mapbox\":{\"style\":\"light\"},\"paper_bgcolor\":\"white\",\"plot_bgcolor\":\"#E5ECF6\",\"polar\":{\"angularaxis\":{\"gridcolor\":\"white\",\"linecolor\":\"white\",\"ticks\":\"\"},\"bgcolor\":\"#E5ECF6\",\"radialaxis\":{\"gridcolor\":\"white\",\"linecolor\":\"white\",\"ticks\":\"\"}},\"scene\":{\"xaxis\":{\"backgroundcolor\":\"#E5ECF6\",\"gridcolor\":\"white\",\"gridwidth\":2,\"linecolor\":\"white\",\"showbackground\":true,\"ticks\":\"\",\"zerolinecolor\":\"white\"},\"yaxis\":{\"backgroundcolor\":\"#E5ECF6\",\"gridcolor\":\"white\",\"gridwidth\":2,\"linecolor\":\"white\",\"showbackground\":true,\"ticks\":\"\",\"zerolinecolor\":\"white\"},\"zaxis\":{\"backgroundcolor\":\"#E5ECF6\",\"gridcolor\":\"white\",\"gridwidth\":2,\"linecolor\":\"white\",\"showbackground\":true,\"ticks\":\"\",\"zerolinecolor\":\"white\"}},\"shapedefaults\":{\"line\":{\"color\":\"#2a3f5f\"}},\"ternary\":{\"aaxis\":{\"gridcolor\":\"white\",\"linecolor\":\"white\",\"ticks\":\"\"},\"baxis\":{\"gridcolor\":\"white\",\"linecolor\":\"white\",\"ticks\":\"\"},\"bgcolor\":\"#E5ECF6\",\"caxis\":{\"gridcolor\":\"white\",\"linecolor\":\"white\",\"ticks\":\"\"}},\"title\":{\"x\":0.05},\"xaxis\":{\"automargin\":true,\"gridcolor\":\"white\",\"linecolor\":\"white\",\"ticks\":\"\",\"title\":{\"standoff\":15},\"zerolinecolor\":\"white\",\"zerolinewidth\":2},\"yaxis\":{\"automargin\":true,\"gridcolor\":\"white\",\"linecolor\":\"white\",\"ticks\":\"\",\"title\":{\"standoff\":15},\"zerolinecolor\":\"white\",\"zerolinewidth\":2}}},\"title\":{\"text\":\"Most common categories of Gitcoin Rounds Matching Pools\"},\"xaxis\":{\"ticklen\":5,\"title\":{\"text\":\"Round\"},\"zeroline\":false}},                        {\"responsive\": true}                    ).then(function(){\n",
       "                            \n",
       "var gd = document.getElementById('4f7eb643-e2e4-4aad-b47f-54c4224fdb84');\n",
       "var x = new MutationObserver(function (mutations, observer) {{\n",
       "        var display = window.getComputedStyle(gd).display;\n",
       "        if (!display || display === 'none') {{\n",
       "            console.log([gd, 'removed!']);\n",
       "            Plotly.purge(gd);\n",
       "            observer.disconnect();\n",
       "        }}\n",
       "}});\n",
       "\n",
       "// Listen for the removal of the full notebook cells\n",
       "var notebookContainer = gd.closest('#notebook-container');\n",
       "if (notebookContainer) {{\n",
       "    x.observe(notebookContainer, {childList: true});\n",
       "}}\n",
       "\n",
       "// Listen for the clearing of the current output cell\n",
       "var outputEl = gd.closest('.output');\n",
       "if (outputEl) {{\n",
       "    x.observe(outputEl, {childList: true});\n",
       "}}\n",
       "\n",
       "                        })                };                });            </script>        </div>"
      ]
     },
     "metadata": {},
     "output_type": "display_data"
    }
   ],
   "source": [
    "trace1 = go.Scatter(\n",
    "                    x = rdata[rdata.slug=='nft'].round_num,\n",
    "                    y = rdata[rdata.slug=='nft'].total_pot,\n",
    "                    mode = \"lines+markers\",\n",
    "                    name = \"nft\",\n",
    "                    marker = dict(color = 'rgba(16, 112, 2, 0.8)'),\n",
    "                    text= rdata[rdata.slug=='nft'].id)\n",
    "\n",
    "trace2 = go.Scatter(\n",
    "                    x = rdata[rdata.slug=='infra'].round_num,\n",
    "                    y = rdata[rdata.slug=='infra'].total_pot,\n",
    "                    mode = \"lines+markers\",\n",
    "                    name = \"infra\",\n",
    "                    marker = dict(color = 'rgba(80, 26, 80, 0.8)'),\n",
    "                    text= rdata[rdata.slug=='infra'].id)\n",
    "\n",
    "trace3 = go.Scatter(\n",
    "                    x = rdata[rdata.slug=='community'].round_num,\n",
    "                    y = rdata[rdata.slug=='community'].total_pot,\n",
    "                    mode = \"lines+markers\",\n",
    "                    name = \"community\",\n",
    "                    marker = dict(color = 'rgba(160, 26, 30, 0.8)'),\n",
    "                    text= rdata[rdata.slug=='community'].id)\n",
    "\n",
    "trace4 = go.Scatter(\n",
    "                    x = rdata[rdata.slug=='dapp'].round_num,\n",
    "                    y = rdata[rdata.slug=='dapp'].total_pot,\n",
    "                    mode = \"lines+markers\",\n",
    "                    name = \"dapp\",\n",
    "                    marker = dict(color = 'rgba(160, 160, 30, 0.8)'),\n",
    "                    text= rdata[rdata.slug=='community'].id)\n",
    "\n",
    "data = [trace1, trace2, trace3, trace4]\n",
    "layout = dict(title = 'Most common categories of Gitcoin Rounds Matching Pools',\n",
    "              xaxis= dict(title = 'Round', ticklen = 5, zeroline = False)\n",
    "             )\n",
    "fig = dict(data = data, layout = layout)\n",
    "iplot(fig)"
   ]
  },
  {
   "cell_type": "code",
   "execution_count": 5,
   "id": "bfab6ede",
   "metadata": {
    "execution": {
     "iopub.execute_input": "2022-01-01T06:43:32.069278Z",
     "iopub.status.busy": "2022-01-01T06:43:32.068144Z",
     "iopub.status.idle": "2022-01-01T06:43:32.276146Z",
     "shell.execute_reply": "2022-01-01T06:43:32.275682Z"
    },
    "jupyter": {
     "source_hidden": true
    },
    "papermill": {
     "duration": 0.379473,
     "end_time": "2022-01-01T06:43:32.276286",
     "exception": false,
     "start_time": "2022-01-01T06:43:31.896813",
     "status": "completed"
    },
    "tags": []
   },
   "outputs": [
    {
     "name": "stderr",
     "output_type": "stream",
     "text": [
      "/opt/conda/lib/python3.7/site-packages/plotly/tools.py:465: DeprecationWarning:\n",
      "\n",
      "plotly.tools.make_subplots is deprecated, please use plotly.subplots.make_subplots instead\n",
      "\n"
     ]
    },
    {
     "data": {
      "text/html": [
       "<div>                            <div id=\"3dff926a-c533-4c44-8151-51809fe5eaf5\" class=\"plotly-graph-div\" style=\"height:525px; width:100%;\"></div>            <script type=\"text/javascript\">                require([\"plotly\"], function(Plotly) {                    window.PLOTLYENV=window.PLOTLYENV || {};                                    if (document.getElementById(\"3dff926a-c533-4c44-8151-51809fe5eaf5\")) {                    Plotly.newPlot(                        \"3dff926a-c533-4c44-8151-51809fe5eaf5\",                        [{\"marker\":{\"color\":\"rgba(171, 50, 96, 0.6)\",\"line\":{\"color\":\"rgba(171, 50, 96, 1.0)\",\"width\":1}},\"name\":\"Matching Pot\",\"orientation\":\"h\",\"x\":[25000,50000,100000,200000,250000,175000,450000,350000,535000,700000,815000,3050000],\"xaxis\":\"x\",\"y\":[1,2,3,4,5,6,7,8,9,10,11,12],\"yaxis\":\"y\",\"type\":\"bar\"},{\"line\":{\"color\":\"rgb(63, 72, 204)\"},\"mode\":\"lines+markers\",\"name\":\"Number of Separate Pools\",\"x\":[1,1,1,1,1,1,3,4,7,7,7,9],\"xaxis\":\"x2\",\"y\":[1,2,3,4,5,6,7,8,9,10,11,12],\"yaxis\":\"y2\",\"type\":\"scatter\"}],                        {\"annotations\":[{\"font\":{\"color\":\"rgb(63, 72, 204)\",\"family\":\"Arial\",\"size\":12},\"showarrow\":false,\"text\":\"1.0\",\"x\":-3.0,\"xref\":\"x2\",\"y\":1,\"yref\":\"y2\"},{\"font\":{\"color\":\"rgb(171, 50, 96)\",\"family\":\"Arial\",\"size\":12},\"showarrow\":false,\"text\":\"25000\",\"x\":25003,\"xref\":\"x\",\"y\":1,\"yref\":\"y\"},{\"font\":{\"color\":\"rgb(63, 72, 204)\",\"family\":\"Arial\",\"size\":12},\"showarrow\":false,\"text\":\"1.0\",\"x\":-3.0,\"xref\":\"x2\",\"y\":2,\"yref\":\"y2\"},{\"font\":{\"color\":\"rgb(171, 50, 96)\",\"family\":\"Arial\",\"size\":12},\"showarrow\":false,\"text\":\"50000\",\"x\":50003,\"xref\":\"x\",\"y\":2,\"yref\":\"y\"},{\"font\":{\"color\":\"rgb(63, 72, 204)\",\"family\":\"Arial\",\"size\":12},\"showarrow\":false,\"text\":\"1.0\",\"x\":-3.0,\"xref\":\"x2\",\"y\":3,\"yref\":\"y2\"},{\"font\":{\"color\":\"rgb(171, 50, 96)\",\"family\":\"Arial\",\"size\":12},\"showarrow\":false,\"text\":\"100000\",\"x\":100003,\"xref\":\"x\",\"y\":3,\"yref\":\"y\"},{\"font\":{\"color\":\"rgb(63, 72, 204)\",\"family\":\"Arial\",\"size\":12},\"showarrow\":false,\"text\":\"1.0\",\"x\":-3.0,\"xref\":\"x2\",\"y\":4,\"yref\":\"y2\"},{\"font\":{\"color\":\"rgb(171, 50, 96)\",\"family\":\"Arial\",\"size\":12},\"showarrow\":false,\"text\":\"200000\",\"x\":200003,\"xref\":\"x\",\"y\":4,\"yref\":\"y\"},{\"font\":{\"color\":\"rgb(63, 72, 204)\",\"family\":\"Arial\",\"size\":12},\"showarrow\":false,\"text\":\"1.0\",\"x\":-3.0,\"xref\":\"x2\",\"y\":5,\"yref\":\"y2\"},{\"font\":{\"color\":\"rgb(171, 50, 96)\",\"family\":\"Arial\",\"size\":12},\"showarrow\":false,\"text\":\"250000\",\"x\":250003,\"xref\":\"x\",\"y\":5,\"yref\":\"y\"},{\"font\":{\"color\":\"rgb(63, 72, 204)\",\"family\":\"Arial\",\"size\":12},\"showarrow\":false,\"text\":\"1.0\",\"x\":-3.0,\"xref\":\"x2\",\"y\":6,\"yref\":\"y2\"},{\"font\":{\"color\":\"rgb(171, 50, 96)\",\"family\":\"Arial\",\"size\":12},\"showarrow\":false,\"text\":\"175000\",\"x\":175003,\"xref\":\"x\",\"y\":6,\"yref\":\"y\"},{\"font\":{\"color\":\"rgb(63, 72, 204)\",\"family\":\"Arial\",\"size\":12},\"showarrow\":false,\"text\":\"3.0\",\"x\":-1.0,\"xref\":\"x2\",\"y\":7,\"yref\":\"y2\"},{\"font\":{\"color\":\"rgb(171, 50, 96)\",\"family\":\"Arial\",\"size\":12},\"showarrow\":false,\"text\":\"450000\",\"x\":450003,\"xref\":\"x\",\"y\":7,\"yref\":\"y\"},{\"font\":{\"color\":\"rgb(63, 72, 204)\",\"family\":\"Arial\",\"size\":12},\"showarrow\":false,\"text\":\"4.0\",\"x\":0.0,\"xref\":\"x2\",\"y\":8,\"yref\":\"y2\"},{\"font\":{\"color\":\"rgb(171, 50, 96)\",\"family\":\"Arial\",\"size\":12},\"showarrow\":false,\"text\":\"350000\",\"x\":350003,\"xref\":\"x\",\"y\":8,\"yref\":\"y\"},{\"font\":{\"color\":\"rgb(63, 72, 204)\",\"family\":\"Arial\",\"size\":12},\"showarrow\":false,\"text\":\"7.0\",\"x\":3.0,\"xref\":\"x2\",\"y\":9,\"yref\":\"y2\"},{\"font\":{\"color\":\"rgb(171, 50, 96)\",\"family\":\"Arial\",\"size\":12},\"showarrow\":false,\"text\":\"535000\",\"x\":535003,\"xref\":\"x\",\"y\":9,\"yref\":\"y\"},{\"font\":{\"color\":\"rgb(63, 72, 204)\",\"family\":\"Arial\",\"size\":12},\"showarrow\":false,\"text\":\"7.0\",\"x\":3.0,\"xref\":\"x2\",\"y\":10,\"yref\":\"y2\"},{\"font\":{\"color\":\"rgb(171, 50, 96)\",\"family\":\"Arial\",\"size\":12},\"showarrow\":false,\"text\":\"700000\",\"x\":700003,\"xref\":\"x\",\"y\":10,\"yref\":\"y\"},{\"font\":{\"color\":\"rgb(63, 72, 204)\",\"family\":\"Arial\",\"size\":12},\"showarrow\":false,\"text\":\"7.0\",\"x\":3.0,\"xref\":\"x2\",\"y\":11,\"yref\":\"y2\"},{\"font\":{\"color\":\"rgb(171, 50, 96)\",\"family\":\"Arial\",\"size\":12},\"showarrow\":false,\"text\":\"815000\",\"x\":815003,\"xref\":\"x\",\"y\":11,\"yref\":\"y\"},{\"font\":{\"color\":\"rgb(63, 72, 204)\",\"family\":\"Arial\",\"size\":12},\"showarrow\":false,\"text\":\"9.0\",\"x\":5.0,\"xref\":\"x2\",\"y\":12,\"yref\":\"y2\"},{\"font\":{\"color\":\"rgb(171, 50, 96)\",\"family\":\"Arial\",\"size\":12},\"showarrow\":false,\"text\":\"3050000\",\"x\":3050003,\"xref\":\"x\",\"y\":12,\"yref\":\"y\"}],\"legend\":{\"font\":{\"size\":10},\"x\":0.029,\"y\":1.038},\"margin\":{\"b\":70,\"l\":200,\"r\":20,\"t\":70},\"paper_bgcolor\":\"rgb(248, 248, 255)\",\"plot_bgcolor\":\"rgb(248, 248, 255)\",\"template\":{\"data\":{\"barpolar\":[{\"marker\":{\"line\":{\"color\":\"#E5ECF6\",\"width\":0.5},\"pattern\":{\"fillmode\":\"overlay\",\"size\":10,\"solidity\":0.2}},\"type\":\"barpolar\"}],\"bar\":[{\"error_x\":{\"color\":\"#2a3f5f\"},\"error_y\":{\"color\":\"#2a3f5f\"},\"marker\":{\"line\":{\"color\":\"#E5ECF6\",\"width\":0.5},\"pattern\":{\"fillmode\":\"overlay\",\"size\":10,\"solidity\":0.2}},\"type\":\"bar\"}],\"carpet\":[{\"aaxis\":{\"endlinecolor\":\"#2a3f5f\",\"gridcolor\":\"white\",\"linecolor\":\"white\",\"minorgridcolor\":\"white\",\"startlinecolor\":\"#2a3f5f\"},\"baxis\":{\"endlinecolor\":\"#2a3f5f\",\"gridcolor\":\"white\",\"linecolor\":\"white\",\"minorgridcolor\":\"white\",\"startlinecolor\":\"#2a3f5f\"},\"type\":\"carpet\"}],\"choropleth\":[{\"colorbar\":{\"outlinewidth\":0,\"ticks\":\"\"},\"type\":\"choropleth\"}],\"contourcarpet\":[{\"colorbar\":{\"outlinewidth\":0,\"ticks\":\"\"},\"type\":\"contourcarpet\"}],\"contour\":[{\"colorbar\":{\"outlinewidth\":0,\"ticks\":\"\"},\"colorscale\":[[0.0,\"#0d0887\"],[0.1111111111111111,\"#46039f\"],[0.2222222222222222,\"#7201a8\"],[0.3333333333333333,\"#9c179e\"],[0.4444444444444444,\"#bd3786\"],[0.5555555555555556,\"#d8576b\"],[0.6666666666666666,\"#ed7953\"],[0.7777777777777778,\"#fb9f3a\"],[0.8888888888888888,\"#fdca26\"],[1.0,\"#f0f921\"]],\"type\":\"contour\"}],\"heatmapgl\":[{\"colorbar\":{\"outlinewidth\":0,\"ticks\":\"\"},\"colorscale\":[[0.0,\"#0d0887\"],[0.1111111111111111,\"#46039f\"],[0.2222222222222222,\"#7201a8\"],[0.3333333333333333,\"#9c179e\"],[0.4444444444444444,\"#bd3786\"],[0.5555555555555556,\"#d8576b\"],[0.6666666666666666,\"#ed7953\"],[0.7777777777777778,\"#fb9f3a\"],[0.8888888888888888,\"#fdca26\"],[1.0,\"#f0f921\"]],\"type\":\"heatmapgl\"}],\"heatmap\":[{\"colorbar\":{\"outlinewidth\":0,\"ticks\":\"\"},\"colorscale\":[[0.0,\"#0d0887\"],[0.1111111111111111,\"#46039f\"],[0.2222222222222222,\"#7201a8\"],[0.3333333333333333,\"#9c179e\"],[0.4444444444444444,\"#bd3786\"],[0.5555555555555556,\"#d8576b\"],[0.6666666666666666,\"#ed7953\"],[0.7777777777777778,\"#fb9f3a\"],[0.8888888888888888,\"#fdca26\"],[1.0,\"#f0f921\"]],\"type\":\"heatmap\"}],\"histogram2dcontour\":[{\"colorbar\":{\"outlinewidth\":0,\"ticks\":\"\"},\"colorscale\":[[0.0,\"#0d0887\"],[0.1111111111111111,\"#46039f\"],[0.2222222222222222,\"#7201a8\"],[0.3333333333333333,\"#9c179e\"],[0.4444444444444444,\"#bd3786\"],[0.5555555555555556,\"#d8576b\"],[0.6666666666666666,\"#ed7953\"],[0.7777777777777778,\"#fb9f3a\"],[0.8888888888888888,\"#fdca26\"],[1.0,\"#f0f921\"]],\"type\":\"histogram2dcontour\"}],\"histogram2d\":[{\"colorbar\":{\"outlinewidth\":0,\"ticks\":\"\"},\"colorscale\":[[0.0,\"#0d0887\"],[0.1111111111111111,\"#46039f\"],[0.2222222222222222,\"#7201a8\"],[0.3333333333333333,\"#9c179e\"],[0.4444444444444444,\"#bd3786\"],[0.5555555555555556,\"#d8576b\"],[0.6666666666666666,\"#ed7953\"],[0.7777777777777778,\"#fb9f3a\"],[0.8888888888888888,\"#fdca26\"],[1.0,\"#f0f921\"]],\"type\":\"histogram2d\"}],\"histogram\":[{\"marker\":{\"pattern\":{\"fillmode\":\"overlay\",\"size\":10,\"solidity\":0.2}},\"type\":\"histogram\"}],\"mesh3d\":[{\"colorbar\":{\"outlinewidth\":0,\"ticks\":\"\"},\"type\":\"mesh3d\"}],\"parcoords\":[{\"line\":{\"colorbar\":{\"outlinewidth\":0,\"ticks\":\"\"}},\"type\":\"parcoords\"}],\"pie\":[{\"automargin\":true,\"type\":\"pie\"}],\"scatter3d\":[{\"line\":{\"colorbar\":{\"outlinewidth\":0,\"ticks\":\"\"}},\"marker\":{\"colorbar\":{\"outlinewidth\":0,\"ticks\":\"\"}},\"type\":\"scatter3d\"}],\"scattercarpet\":[{\"marker\":{\"colorbar\":{\"outlinewidth\":0,\"ticks\":\"\"}},\"type\":\"scattercarpet\"}],\"scattergeo\":[{\"marker\":{\"colorbar\":{\"outlinewidth\":0,\"ticks\":\"\"}},\"type\":\"scattergeo\"}],\"scattergl\":[{\"marker\":{\"colorbar\":{\"outlinewidth\":0,\"ticks\":\"\"}},\"type\":\"scattergl\"}],\"scattermapbox\":[{\"marker\":{\"colorbar\":{\"outlinewidth\":0,\"ticks\":\"\"}},\"type\":\"scattermapbox\"}],\"scatterpolargl\":[{\"marker\":{\"colorbar\":{\"outlinewidth\":0,\"ticks\":\"\"}},\"type\":\"scatterpolargl\"}],\"scatterpolar\":[{\"marker\":{\"colorbar\":{\"outlinewidth\":0,\"ticks\":\"\"}},\"type\":\"scatterpolar\"}],\"scatter\":[{\"marker\":{\"colorbar\":{\"outlinewidth\":0,\"ticks\":\"\"}},\"type\":\"scatter\"}],\"scatterternary\":[{\"marker\":{\"colorbar\":{\"outlinewidth\":0,\"ticks\":\"\"}},\"type\":\"scatterternary\"}],\"surface\":[{\"colorbar\":{\"outlinewidth\":0,\"ticks\":\"\"},\"colorscale\":[[0.0,\"#0d0887\"],[0.1111111111111111,\"#46039f\"],[0.2222222222222222,\"#7201a8\"],[0.3333333333333333,\"#9c179e\"],[0.4444444444444444,\"#bd3786\"],[0.5555555555555556,\"#d8576b\"],[0.6666666666666666,\"#ed7953\"],[0.7777777777777778,\"#fb9f3a\"],[0.8888888888888888,\"#fdca26\"],[1.0,\"#f0f921\"]],\"type\":\"surface\"}],\"table\":[{\"cells\":{\"fill\":{\"color\":\"#EBF0F8\"},\"line\":{\"color\":\"white\"}},\"header\":{\"fill\":{\"color\":\"#C8D4E3\"},\"line\":{\"color\":\"white\"}},\"type\":\"table\"}]},\"layout\":{\"annotationdefaults\":{\"arrowcolor\":\"#2a3f5f\",\"arrowhead\":0,\"arrowwidth\":1},\"autotypenumbers\":\"strict\",\"coloraxis\":{\"colorbar\":{\"outlinewidth\":0,\"ticks\":\"\"}},\"colorscale\":{\"diverging\":[[0,\"#8e0152\"],[0.1,\"#c51b7d\"],[0.2,\"#de77ae\"],[0.3,\"#f1b6da\"],[0.4,\"#fde0ef\"],[0.5,\"#f7f7f7\"],[0.6,\"#e6f5d0\"],[0.7,\"#b8e186\"],[0.8,\"#7fbc41\"],[0.9,\"#4d9221\"],[1,\"#276419\"]],\"sequential\":[[0.0,\"#0d0887\"],[0.1111111111111111,\"#46039f\"],[0.2222222222222222,\"#7201a8\"],[0.3333333333333333,\"#9c179e\"],[0.4444444444444444,\"#bd3786\"],[0.5555555555555556,\"#d8576b\"],[0.6666666666666666,\"#ed7953\"],[0.7777777777777778,\"#fb9f3a\"],[0.8888888888888888,\"#fdca26\"],[1.0,\"#f0f921\"]],\"sequentialminus\":[[0.0,\"#0d0887\"],[0.1111111111111111,\"#46039f\"],[0.2222222222222222,\"#7201a8\"],[0.3333333333333333,\"#9c179e\"],[0.4444444444444444,\"#bd3786\"],[0.5555555555555556,\"#d8576b\"],[0.6666666666666666,\"#ed7953\"],[0.7777777777777778,\"#fb9f3a\"],[0.8888888888888888,\"#fdca26\"],[1.0,\"#f0f921\"]]},\"colorway\":[\"#636efa\",\"#EF553B\",\"#00cc96\",\"#ab63fa\",\"#FFA15A\",\"#19d3f3\",\"#FF6692\",\"#B6E880\",\"#FF97FF\",\"#FECB52\"],\"font\":{\"color\":\"#2a3f5f\"},\"geo\":{\"bgcolor\":\"white\",\"lakecolor\":\"white\",\"landcolor\":\"#E5ECF6\",\"showlakes\":true,\"showland\":true,\"subunitcolor\":\"white\"},\"hoverlabel\":{\"align\":\"left\"},\"hovermode\":\"closest\",\"mapbox\":{\"style\":\"light\"},\"paper_bgcolor\":\"white\",\"plot_bgcolor\":\"#E5ECF6\",\"polar\":{\"angularaxis\":{\"gridcolor\":\"white\",\"linecolor\":\"white\",\"ticks\":\"\"},\"bgcolor\":\"#E5ECF6\",\"radialaxis\":{\"gridcolor\":\"white\",\"linecolor\":\"white\",\"ticks\":\"\"}},\"scene\":{\"xaxis\":{\"backgroundcolor\":\"#E5ECF6\",\"gridcolor\":\"white\",\"gridwidth\":2,\"linecolor\":\"white\",\"showbackground\":true,\"ticks\":\"\",\"zerolinecolor\":\"white\"},\"yaxis\":{\"backgroundcolor\":\"#E5ECF6\",\"gridcolor\":\"white\",\"gridwidth\":2,\"linecolor\":\"white\",\"showbackground\":true,\"ticks\":\"\",\"zerolinecolor\":\"white\"},\"zaxis\":{\"backgroundcolor\":\"#E5ECF6\",\"gridcolor\":\"white\",\"gridwidth\":2,\"linecolor\":\"white\",\"showbackground\":true,\"ticks\":\"\",\"zerolinecolor\":\"white\"}},\"shapedefaults\":{\"line\":{\"color\":\"#2a3f5f\"}},\"ternary\":{\"aaxis\":{\"gridcolor\":\"white\",\"linecolor\":\"white\",\"ticks\":\"\"},\"baxis\":{\"gridcolor\":\"white\",\"linecolor\":\"white\",\"ticks\":\"\"},\"bgcolor\":\"#E5ECF6\",\"caxis\":{\"gridcolor\":\"white\",\"linecolor\":\"white\",\"ticks\":\"\"}},\"title\":{\"x\":0.05},\"xaxis\":{\"automargin\":true,\"gridcolor\":\"white\",\"linecolor\":\"white\",\"ticks\":\"\",\"title\":{\"standoff\":15},\"zerolinecolor\":\"white\",\"zerolinewidth\":2},\"yaxis\":{\"automargin\":true,\"gridcolor\":\"white\",\"linecolor\":\"white\",\"ticks\":\"\",\"title\":{\"standoff\":15},\"zerolinecolor\":\"white\",\"zerolinewidth\":2}}},\"title\":{\"text\":\"Matching Pot and Number of Separate Pools\"},\"xaxis\":{\"anchor\":\"y\",\"domain\":[0,0.42],\"showgrid\":true,\"showline\":false,\"showticklabels\":true,\"zeroline\":false},\"yaxis\":{\"anchor\":\"x\",\"domain\":[0,0.85],\"showticklabels\":true},\"xaxis2\":{\"anchor\":\"y2\",\"domain\":[0.47,1],\"dtick\":25,\"showgrid\":true,\"showline\":false,\"showticklabels\":true,\"side\":\"top\",\"zeroline\":false},\"yaxis2\":{\"anchor\":\"x2\",\"domain\":[0,0.85],\"linecolor\":\"rgba(102, 102, 102, 0.8)\",\"linewidth\":2,\"showline\":true,\"showticklabels\":false}},                        {\"responsive\": true}                    ).then(function(){\n",
       "                            \n",
       "var gd = document.getElementById('3dff926a-c533-4c44-8151-51809fe5eaf5');\n",
       "var x = new MutationObserver(function (mutations, observer) {{\n",
       "        var display = window.getComputedStyle(gd).display;\n",
       "        if (!display || display === 'none') {{\n",
       "            console.log([gd, 'removed!']);\n",
       "            Plotly.purge(gd);\n",
       "            observer.disconnect();\n",
       "        }}\n",
       "}});\n",
       "\n",
       "// Listen for the removal of the full notebook cells\n",
       "var notebookContainer = gd.closest('#notebook-container');\n",
       "if (notebookContainer) {{\n",
       "    x.observe(notebookContainer, {childList: true});\n",
       "}}\n",
       "\n",
       "// Listen for the clearing of the current output cell\n",
       "var outputEl = gd.closest('.output');\n",
       "if (outputEl) {{\n",
       "    x.observe(outputEl, {childList: true});\n",
       "}}\n",
       "\n",
       "                        })                };                });            </script>        </div>"
      ]
     },
     "metadata": {},
     "output_type": "display_data"
    }
   ],
   "source": [
    "rdata_sum = rdata.groupby('round_num').agg({\"total_pot\": [np.sum, np.count_nonzero]})\n",
    "\n",
    "\n",
    "y_saving = rdata_sum[('total_pot','sum')]\n",
    "y_net_worth  = rdata_sum[('total_pot','count_nonzero')]\n",
    "x_saving = rdata_sum.index\n",
    "x_net_worth  = rdata_sum.index\n",
    "\n",
    "trace0 = go.Bar(\n",
    "                x=y_saving,\n",
    "                y=x_saving,\n",
    "                marker=dict(color='rgba(171, 50, 96, 0.6)',line=dict(color='rgba(171, 50, 96, 1.0)',width=1)),\n",
    "                name='Matching Pot',\n",
    "                orientation='h',\n",
    ")\n",
    "trace1 = go.Scatter(\n",
    "                x=y_net_worth,\n",
    "                y=x_net_worth,\n",
    "                mode='lines+markers',\n",
    "                line=dict(color='rgb(63, 72, 204)'),\n",
    "                name='Number of Separate Pools',\n",
    ")\n",
    "layout = dict(\n",
    "                title='Matching Pot and Number of Separate Pools',\n",
    "                yaxis=dict(showticklabels=True,domain=[0, 0.85]),\n",
    "                yaxis2=dict(showline=True,showticklabels=False,linecolor='rgba(102, 102, 102, 0.8)',linewidth=2,domain=[0, 0.85]),\n",
    "                xaxis=dict(zeroline=False,showline=False,showticklabels=True,showgrid=True,domain=[0, 0.42]),\n",
    "                xaxis2=dict(zeroline=False,showline=False,showticklabels=True,showgrid=True,domain=[0.47, 1],side='top',dtick=25),\n",
    "                legend=dict(x=0.029,y=1.038,font=dict(size=10) ),\n",
    "                margin=dict(l=200, r=20,t=70,b=70),\n",
    "                paper_bgcolor='rgb(248, 248, 255)',\n",
    "                plot_bgcolor='rgb(248, 248, 255)',\n",
    ")\n",
    "annotations = []\n",
    "y_s = np.round(y_saving, decimals=2)\n",
    "y_nw = np.rint(y_net_worth)\n",
    "# Adding labels\n",
    "for ydn, yd, xd in zip(y_nw, y_s, x_saving):\n",
    "    # labeling the scatter savings\n",
    "    annotations.append(dict(xref='x2', yref='y2', y=xd, x=ydn - 4,text='{:,}'.format(ydn),font=dict(family='Arial', size=12,color='rgb(63, 72, 204)'),showarrow=False))\n",
    "    # labeling the bar net worth\n",
    "    annotations.append(dict(xref='x1', yref='y1', y=xd, x=yd + 3,text=str(yd),font=dict(family='Arial', size=12,color='rgb(171, 50, 96)'),showarrow=False))\n",
    "\n",
    "layout['annotations'] = annotations\n",
    "\n",
    "# Creating two subplots\n",
    "fig = tools.make_subplots(rows=1, cols=2, specs=[[{}, {}]], shared_xaxes=True,\n",
    "                          shared_yaxes=False, vertical_spacing=0.001)\n",
    "\n",
    "fig.append_trace(trace0, 1, 1)\n",
    "fig.append_trace(trace1, 1, 2)\n",
    "\n",
    "fig['layout'].update(layout)\n",
    "iplot(fig)"
   ]
  },
  {
   "cell_type": "code",
   "execution_count": 6,
   "id": "06ee2355",
   "metadata": {
    "execution": {
     "iopub.execute_input": "2022-01-01T06:43:32.332823Z",
     "iopub.status.busy": "2022-01-01T06:43:32.332181Z",
     "iopub.status.idle": "2022-01-01T06:43:32.339120Z",
     "shell.execute_reply": "2022-01-01T06:43:32.338491Z"
    },
    "jupyter": {
     "source_hidden": true
    },
    "papermill": {
     "duration": 0.035547,
     "end_time": "2022-01-01T06:43:32.339256",
     "exception": false,
     "start_time": "2022-01-01T06:43:32.303709",
     "status": "completed"
    },
    "tags": []
   },
   "outputs": [
    {
     "data": {
      "text/plain": [
       "'\\nrdata[rdata.sub_round_slug==\\'nft\\']\\n\\ntrace1 = go.Bar(\\n                x = rdata[rdata.sub_round_slug==\\'nft\\'].round_num,\\n                y = rdata[rdata.sub_round_slug==\\'nft\\'].total_pot,\\n                name = \"nft\",\\n                marker = dict(color = \\'rgba(255, 174, 255, 0.5)\\',\\n                             line=dict(color=\\'rgb(0,0,0)\\',width=1.5)),\\n                text = rdata[rdata.sub_round_slug==\\'nft\\'].total_pot)\\n# create trace2 \\ntrace2 = go.Bar(\\n                x = rdata[rdata.sub_round_slug==\\'infra\\'].round_num,\\n                y = rdata[rdata.sub_round_slug==\\'infra\\'].total_pot,\\n                name = \"infra\",\\n                marker = dict(color = \\'rgba(255, 255, 128, 0.5)\\',\\n                              line=dict(color=\\'rgb(0,0,0)\\',width=1.5)),\\n                text = rdata[rdata.sub_round_slug==\\'infra\\'].total_pot)\\n\\n\\ndata = [trace1, trace2]\\nlayout = go.Layout(barmode = \"group\")\\nfig = go.Figure(data = data, layout = layout)\\niplot(fig)'"
      ]
     },
     "execution_count": 6,
     "metadata": {},
     "output_type": "execute_result"
    }
   ],
   "source": [
    "\"\"\"\n",
    "rdata[rdata.sub_round_slug=='nft']\n",
    "\n",
    "trace1 = go.Bar(\n",
    "                x = rdata[rdata.sub_round_slug=='nft'].round_num,\n",
    "                y = rdata[rdata.sub_round_slug=='nft'].total_pot,\n",
    "                name = \"nft\",\n",
    "                marker = dict(color = 'rgba(255, 174, 255, 0.5)',\n",
    "                             line=dict(color='rgb(0,0,0)',width=1.5)),\n",
    "                text = rdata[rdata.sub_round_slug=='nft'].total_pot)\n",
    "# create trace2 \n",
    "trace2 = go.Bar(\n",
    "                x = rdata[rdata.sub_round_slug=='infra'].round_num,\n",
    "                y = rdata[rdata.sub_round_slug=='infra'].total_pot,\n",
    "                name = \"infra\",\n",
    "                marker = dict(color = 'rgba(255, 255, 128, 0.5)',\n",
    "                              line=dict(color='rgb(0,0,0)',width=1.5)),\n",
    "                text = rdata[rdata.sub_round_slug=='infra'].total_pot)\n",
    "\n",
    "\n",
    "data = [trace1, trace2]\n",
    "layout = go.Layout(barmode = \"group\")\n",
    "fig = go.Figure(data = data, layout = layout)\n",
    "iplot(fig)\"\"\""
   ]
  },
  {
   "cell_type": "markdown",
   "id": "39406aa6",
   "metadata": {
    "papermill": {
     "duration": 0.025961,
     "end_time": "2022-01-01T06:43:32.391511",
     "exception": false,
     "start_time": "2022-01-01T06:43:32.365550",
     "status": "completed"
    },
    "tags": []
   },
   "source": [
    "# Grants Granular Data"
   ]
  },
  {
   "cell_type": "code",
   "execution_count": 7,
   "id": "e727f281",
   "metadata": {
    "execution": {
     "iopub.execute_input": "2022-01-01T06:43:32.450913Z",
     "iopub.status.busy": "2022-01-01T06:43:32.450299Z",
     "iopub.status.idle": "2022-01-01T06:43:32.531732Z",
     "shell.execute_reply": "2022-01-01T06:43:32.532311Z"
    },
    "papermill": {
     "duration": 0.114699,
     "end_time": "2022-01-01T06:43:32.532476",
     "exception": false,
     "start_time": "2022-01-01T06:43:32.417777",
     "status": "completed"
    },
    "tags": []
   },
   "outputs": [
    {
     "data": {
      "text/html": [
       "<div>\n",
       "<style scoped>\n",
       "    .dataframe tbody tr th:only-of-type {\n",
       "        vertical-align: middle;\n",
       "    }\n",
       "\n",
       "    .dataframe tbody tr th {\n",
       "        vertical-align: top;\n",
       "    }\n",
       "\n",
       "    .dataframe thead th {\n",
       "        text-align: right;\n",
       "    }\n",
       "</style>\n",
       "<table border=\"1\" class=\"dataframe\">\n",
       "  <thead>\n",
       "    <tr style=\"text-align: right;\">\n",
       "      <th></th>\n",
       "      <th>round_number</th>\n",
       "      <th>round_start_date</th>\n",
       "      <th>round_end_date</th>\n",
       "      <th>grant_title</th>\n",
       "      <th>grant_id</th>\n",
       "      <th>region</th>\n",
       "      <th>category</th>\n",
       "      <th>url</th>\n",
       "      <th>match_amount</th>\n",
       "      <th>num_contributions</th>\n",
       "      <th>num_unique_contributors</th>\n",
       "      <th>crowdfund_amount_contributions_usd</th>\n",
       "      <th>total</th>\n",
       "    </tr>\n",
       "  </thead>\n",
       "  <tbody>\n",
       "    <tr>\n",
       "      <th>0</th>\n",
       "      <td>1</td>\n",
       "      <td>2019-02-01</td>\n",
       "      <td>2019-02-15</td>\n",
       "      <td>ChainID Network</td>\n",
       "      <td>44</td>\n",
       "      <td>undefined</td>\n",
       "      <td>Infra Tech</td>\n",
       "      <td>https://gitcoin.co/grants/44/chainid-network</td>\n",
       "      <td>0.06</td>\n",
       "      <td>1</td>\n",
       "      <td>1</td>\n",
       "      <td>0.1</td>\n",
       "      <td>0.16</td>\n",
       "    </tr>\n",
       "    <tr>\n",
       "      <th>1</th>\n",
       "      <td>1</td>\n",
       "      <td>2019-02-01</td>\n",
       "      <td>2019-02-15</td>\n",
       "      <td>Prysm by Prysmatic Labs</td>\n",
       "      <td>24</td>\n",
       "      <td>north_america</td>\n",
       "      <td>Infra Tech</td>\n",
       "      <td>https://gitcoin.co/grants/24/prysm-by-prysmatic-labs</td>\n",
       "      <td>4306.03</td>\n",
       "      <td>12</td>\n",
       "      <td>12</td>\n",
       "      <td>1619.0</td>\n",
       "      <td>5925.03</td>\n",
       "    </tr>\n",
       "  </tbody>\n",
       "</table>\n",
       "</div>"
      ],
      "text/plain": [
       "   round_number round_start_date round_end_date              grant_title  \\\n",
       "0             1       2019-02-01     2019-02-15          ChainID Network   \n",
       "1             1       2019-02-01     2019-02-15  Prysm by Prysmatic Labs   \n",
       "\n",
       "   grant_id         region    category  \\\n",
       "0        44      undefined  Infra Tech   \n",
       "1        24  north_america  Infra Tech   \n",
       "\n",
       "                                                    url  match_amount  \\\n",
       "0          https://gitcoin.co/grants/44/chainid-network          0.06   \n",
       "1  https://gitcoin.co/grants/24/prysm-by-prysmatic-labs       4306.03   \n",
       "\n",
       "   num_contributions  num_unique_contributors  \\\n",
       "0                  1                        1   \n",
       "1                 12                       12   \n",
       "\n",
       "   crowdfund_amount_contributions_usd    total  \n",
       "0                                 0.1     0.16  \n",
       "1                              1619.0  5925.03  "
      ]
     },
     "execution_count": 7,
     "metadata": {},
     "output_type": "execute_result"
    }
   ],
   "source": [
    "data = pd.read_csv('/kaggle/input/grallrounds/Grants Results History Round over Round  Grant over Grant - GR1-GR12.csv').sort_values('round_number').reset_index(drop=True)\n",
    "\n",
    "def fill_missing_values(df):\n",
    "    df.total = df.total.apply(lambda x: str(x).replace(',', '').replace('$', '')).astype(float)\n",
    "    df.crowdfund_amount_contributions_usd = df.crowdfund_amount_contributions_usd.apply(lambda x: str(x).replace('$', '').replace(',', '')).astype(float)\n",
    "    df.match_amount = df.match_amount.apply(lambda x: str(x).replace('$', '').replace(',', '')).astype(float)\n",
    "    return df\n",
    "\n",
    "data = fill_missing_values(data)\n",
    "\n",
    "data.head(2)"
   ]
  },
  {
   "cell_type": "markdown",
   "id": "b7df5f37",
   "metadata": {
    "papermill": {
     "duration": 0.026329,
     "end_time": "2022-01-01T06:43:32.585468",
     "exception": false,
     "start_time": "2022-01-01T06:43:32.559139",
     "status": "completed"
    },
    "tags": []
   },
   "source": [
    "# NA analysis"
   ]
  },
  {
   "cell_type": "code",
   "execution_count": 8,
   "id": "adbcf727",
   "metadata": {
    "execution": {
     "iopub.execute_input": "2022-01-01T06:43:32.645522Z",
     "iopub.status.busy": "2022-01-01T06:43:32.640963Z",
     "iopub.status.idle": "2022-01-01T06:43:33.300573Z",
     "shell.execute_reply": "2022-01-01T06:43:33.301006Z"
    },
    "papermill": {
     "duration": 0.689058,
     "end_time": "2022-01-01T06:43:33.301187",
     "exception": false,
     "start_time": "2022-01-01T06:43:32.612129",
     "status": "completed"
    },
    "tags": []
   },
   "outputs": [
    {
     "data": {
      "image/png": "[encoded data removed]",
      "text/plain": [
       "<Figure size 1800x720 with 2 Axes>"
      ]
     },
     "metadata": {
      "needs_background": "light"
     },
     "output_type": "display_data"
    }
   ],
   "source": [
    "msno.matrix(data)\n",
    "plt.savefig('MSNO.png', format='png')\n",
    "plt.show()"
   ]
  },
  {
   "cell_type": "code",
   "execution_count": 9,
   "id": "eb539ba2",
   "metadata": {
    "execution": {
     "iopub.execute_input": "2022-01-01T06:43:33.366705Z",
     "iopub.status.busy": "2022-01-01T06:43:33.363322Z",
     "iopub.status.idle": "2022-01-01T06:43:33.393698Z",
     "shell.execute_reply": "2022-01-01T06:43:33.393142Z"
    },
    "papermill": {
     "duration": 0.064297,
     "end_time": "2022-01-01T06:43:33.393829",
     "exception": false,
     "start_time": "2022-01-01T06:43:33.329532",
     "status": "completed"
    },
    "tags": []
   },
   "outputs": [
    {
     "data": {
      "text/html": [
       "<div>\n",
       "<style scoped>\n",
       "    .dataframe tbody tr th:only-of-type {\n",
       "        vertical-align: middle;\n",
       "    }\n",
       "\n",
       "    .dataframe tbody tr th {\n",
       "        vertical-align: top;\n",
       "    }\n",
       "\n",
       "    .dataframe thead th {\n",
       "        text-align: right;\n",
       "    }\n",
       "</style>\n",
       "<table border=\"1\" class=\"dataframe\">\n",
       "  <thead>\n",
       "    <tr style=\"text-align: right;\">\n",
       "      <th></th>\n",
       "      <th>round_number</th>\n",
       "      <th>grant_id</th>\n",
       "      <th>match_amount</th>\n",
       "      <th>num_contributions</th>\n",
       "      <th>num_unique_contributors</th>\n",
       "      <th>crowdfund_amount_contributions_usd</th>\n",
       "      <th>total</th>\n",
       "    </tr>\n",
       "  </thead>\n",
       "  <tbody>\n",
       "    <tr>\n",
       "      <th>count</th>\n",
       "      <td>1191.000000</td>\n",
       "      <td>1191.000000</td>\n",
       "      <td>1191.00000</td>\n",
       "      <td>1191.000000</td>\n",
       "      <td>1191.0</td>\n",
       "      <td>0.0</td>\n",
       "      <td>261.000000</td>\n",
       "    </tr>\n",
       "    <tr>\n",
       "      <th>mean</th>\n",
       "      <td>10.786734</td>\n",
       "      <td>1267.668346</td>\n",
       "      <td>36.33979</td>\n",
       "      <td>1.001679</td>\n",
       "      <td>0.0</td>\n",
       "      <td>NaN</td>\n",
       "      <td>165.826398</td>\n",
       "    </tr>\n",
       "    <tr>\n",
       "      <th>std</th>\n",
       "      <td>2.437768</td>\n",
       "      <td>893.676762</td>\n",
       "      <td>628.53794</td>\n",
       "      <td>0.040962</td>\n",
       "      <td>0.0</td>\n",
       "      <td>NaN</td>\n",
       "      <td>1336.639100</td>\n",
       "    </tr>\n",
       "    <tr>\n",
       "      <th>min</th>\n",
       "      <td>2.000000</td>\n",
       "      <td>15.000000</td>\n",
       "      <td>0.00000</td>\n",
       "      <td>1.000000</td>\n",
       "      <td>0.0</td>\n",
       "      <td>NaN</td>\n",
       "      <td>0.000000</td>\n",
       "    </tr>\n",
       "    <tr>\n",
       "      <th>25%</th>\n",
       "      <td>12.000000</td>\n",
       "      <td>512.500000</td>\n",
       "      <td>0.00000</td>\n",
       "      <td>1.000000</td>\n",
       "      <td>0.0</td>\n",
       "      <td>NaN</td>\n",
       "      <td>0.000000</td>\n",
       "    </tr>\n",
       "    <tr>\n",
       "      <th>50%</th>\n",
       "      <td>12.000000</td>\n",
       "      <td>1012.000000</td>\n",
       "      <td>0.00000</td>\n",
       "      <td>1.000000</td>\n",
       "      <td>0.0</td>\n",
       "      <td>NaN</td>\n",
       "      <td>0.000000</td>\n",
       "    </tr>\n",
       "    <tr>\n",
       "      <th>75%</th>\n",
       "      <td>12.000000</td>\n",
       "      <td>1889.500000</td>\n",
       "      <td>0.00000</td>\n",
       "      <td>1.000000</td>\n",
       "      <td>0.0</td>\n",
       "      <td>NaN</td>\n",
       "      <td>0.200000</td>\n",
       "    </tr>\n",
       "    <tr>\n",
       "      <th>max</th>\n",
       "      <td>12.000000</td>\n",
       "      <td>4305.000000</td>\n",
       "      <td>14768.50000</td>\n",
       "      <td>2.000000</td>\n",
       "      <td>0.0</td>\n",
       "      <td>NaN</td>\n",
       "      <td>14768.500000</td>\n",
       "    </tr>\n",
       "  </tbody>\n",
       "</table>\n",
       "</div>"
      ],
      "text/plain": [
       "       round_number     grant_id  match_amount  num_contributions  \\\n",
       "count   1191.000000  1191.000000    1191.00000        1191.000000   \n",
       "mean      10.786734  1267.668346      36.33979           1.001679   \n",
       "std        2.437768   893.676762     628.53794           0.040962   \n",
       "min        2.000000    15.000000       0.00000           1.000000   \n",
       "25%       12.000000   512.500000       0.00000           1.000000   \n",
       "50%       12.000000  1012.000000       0.00000           1.000000   \n",
       "75%       12.000000  1889.500000       0.00000           1.000000   \n",
       "max       12.000000  4305.000000   14768.50000           2.000000   \n",
       "\n",
       "       num_unique_contributors  crowdfund_amount_contributions_usd  \\\n",
       "count                   1191.0                                 0.0   \n",
       "mean                       0.0                                 NaN   \n",
       "std                        0.0                                 NaN   \n",
       "min                        0.0                                 NaN   \n",
       "25%                        0.0                                 NaN   \n",
       "50%                        0.0                                 NaN   \n",
       "75%                        0.0                                 NaN   \n",
       "max                        0.0                                 NaN   \n",
       "\n",
       "              total  \n",
       "count    261.000000  \n",
       "mean     165.826398  \n",
       "std     1336.639100  \n",
       "min        0.000000  \n",
       "25%        0.000000  \n",
       "50%        0.000000  \n",
       "75%        0.200000  \n",
       "max    14768.500000  "
      ]
     },
     "execution_count": 9,
     "metadata": {},
     "output_type": "execute_result"
    }
   ],
   "source": [
    "data[data.crowdfund_amount_contributions_usd.isna()].describe()"
   ]
  },
  {
   "cell_type": "code",
   "execution_count": 10,
   "id": "cb44f6c5",
   "metadata": {
    "execution": {
     "iopub.execute_input": "2022-01-01T06:43:33.455345Z",
     "iopub.status.busy": "2022-01-01T06:43:33.454383Z",
     "iopub.status.idle": "2022-01-01T06:43:34.366414Z",
     "shell.execute_reply": "2022-01-01T06:43:34.366868Z"
    },
    "papermill": {
     "duration": 0.944293,
     "end_time": "2022-01-01T06:43:34.367028",
     "exception": false,
     "start_time": "2022-01-01T06:43:33.422735",
     "status": "completed"
    },
    "tags": []
   },
   "outputs": [
    {
     "data": {
      "image/png": "[encoded data removed]",
      "text/plain": [
       "<Figure size 1728x720 with 3 Axes>"
      ]
     },
     "metadata": {
      "needs_background": "light"
     },
     "output_type": "display_data"
    }
   ],
   "source": [
    "msno.bar(data)\n",
    "plt.savefig('MSNObar.png', format='png')\n",
    "plt.show()"
   ]
  },
  {
   "cell_type": "code",
   "execution_count": 11,
   "id": "a7288458",
   "metadata": {
    "execution": {
     "iopub.execute_input": "2022-01-01T06:43:34.435069Z",
     "iopub.status.busy": "2022-01-01T06:43:34.434255Z",
     "iopub.status.idle": "2022-01-01T06:43:34.446458Z",
     "shell.execute_reply": "2022-01-01T06:43:34.446932Z"
    },
    "jupyter": {
     "source_hidden": true
    },
    "papermill": {
     "duration": 0.048922,
     "end_time": "2022-01-01T06:43:34.447138",
     "exception": false,
     "start_time": "2022-01-01T06:43:34.398216",
     "status": "completed"
    },
    "tags": []
   },
   "outputs": [
    {
     "data": {
      "text/html": [
       "<div>\n",
       "<style scoped>\n",
       "    .dataframe tbody tr th:only-of-type {\n",
       "        vertical-align: middle;\n",
       "    }\n",
       "\n",
       "    .dataframe tbody tr th {\n",
       "        vertical-align: top;\n",
       "    }\n",
       "\n",
       "    .dataframe thead th {\n",
       "        text-align: right;\n",
       "    }\n",
       "</style>\n",
       "<table border=\"1\" class=\"dataframe\">\n",
       "  <thead>\n",
       "    <tr style=\"text-align: right;\">\n",
       "      <th></th>\n",
       "      <th>Missing Ratio</th>\n",
       "    </tr>\n",
       "  </thead>\n",
       "  <tbody>\n",
       "    <tr>\n",
       "      <th>crowdfund_amount_contributions_usd</th>\n",
       "      <td>20.165933</td>\n",
       "    </tr>\n",
       "    <tr>\n",
       "      <th>total</th>\n",
       "      <td>15.746698</td>\n",
       "    </tr>\n",
       "    <tr>\n",
       "      <th>region</th>\n",
       "      <td>0.304775</td>\n",
       "    </tr>\n",
       "  </tbody>\n",
       "</table>\n",
       "</div>"
      ],
      "text/plain": [
       "                                    Missing Ratio\n",
       "crowdfund_amount_contributions_usd      20.165933\n",
       "total                                   15.746698\n",
       "region                                   0.304775"
      ]
     },
     "execution_count": 11,
     "metadata": {},
     "output_type": "execute_result"
    }
   ],
   "source": [
    "all_data_na = (data.isnull().sum() / len(data)) * 100\n",
    "all_data_na = all_data_na.drop(all_data_na[all_data_na == 0].index).sort_values(ascending=False)\n",
    "missing_data = pd.DataFrame({'Missing Ratio' : all_data_na})\n",
    "missing_data.head(5)"
   ]
  },
  {
   "cell_type": "code",
   "execution_count": 12,
   "id": "41c4a903",
   "metadata": {
    "execution": {
     "iopub.execute_input": "2022-01-01T06:43:34.515141Z",
     "iopub.status.busy": "2022-01-01T06:43:34.514252Z",
     "iopub.status.idle": "2022-01-01T06:43:34.523307Z",
     "shell.execute_reply": "2022-01-01T06:43:34.523872Z"
    },
    "jupyter": {
     "source_hidden": true
    },
    "papermill": {
     "duration": 0.045426,
     "end_time": "2022-01-01T06:43:34.524040",
     "exception": false,
     "start_time": "2022-01-01T06:43:34.478614",
     "status": "completed"
    },
    "tags": []
   },
   "outputs": [
    {
     "data": {
      "text/plain": [
       "round_number                             0\n",
       "round_start_date                         0\n",
       "round_end_date                           0\n",
       "grant_title                              0\n",
       "grant_id                                 0\n",
       "region                                  18\n",
       "category                                 0\n",
       "url                                      0\n",
       "match_amount                             0\n",
       "num_contributions                        0\n",
       "num_unique_contributors                  0\n",
       "crowdfund_amount_contributions_usd    1191\n",
       "total                                  930\n",
       "dtype: int64"
      ]
     },
     "execution_count": 12,
     "metadata": {},
     "output_type": "execute_result"
    }
   ],
   "source": [
    "data.isnull().sum()"
   ]
  },
  {
   "cell_type": "markdown",
   "id": "5ffa3ac5",
   "metadata": {
    "papermill": {
     "duration": 0.031892,
     "end_time": "2022-01-01T06:43:34.587837",
     "exception": false,
     "start_time": "2022-01-01T06:43:34.555945",
     "status": "completed"
    },
    "tags": []
   },
   "source": [
    "## Cleaning data"
   ]
  },
  {
   "cell_type": "code",
   "execution_count": 13,
   "id": "8fdb42fa",
   "metadata": {
    "execution": {
     "iopub.execute_input": "2022-01-01T06:43:34.656549Z",
     "iopub.status.busy": "2022-01-01T06:43:34.655582Z",
     "iopub.status.idle": "2022-01-01T06:43:35.369264Z",
     "shell.execute_reply": "2022-01-01T06:43:35.369764Z"
    },
    "papermill": {
     "duration": 0.749788,
     "end_time": "2022-01-01T06:43:35.369935",
     "exception": false,
     "start_time": "2022-01-01T06:43:34.620147",
     "status": "completed"
    },
    "tags": []
   },
   "outputs": [
    {
     "name": "stderr",
     "output_type": "stream",
     "text": [
      "/opt/conda/lib/python3.7/site-packages/pandas/core/generic.py:5516: SettingWithCopyWarning:\n",
      "\n",
      "\n",
      "A value is trying to be set on a copy of a slice from a DataFrame.\n",
      "Try using .loc[row_indexer,col_indexer] = value instead\n",
      "\n",
      "See the caveats in the documentation: https://pandas.pydata.org/pandas-docs/stable/user_guide/indexing.html#returning-a-view-versus-a-copy\n",
      "\n",
      "/opt/conda/lib/python3.7/site-packages/pandas/core/indexing.py:1817: SettingWithCopyWarning:\n",
      "\n",
      "\n",
      "A value is trying to be set on a copy of a slice from a DataFrame.\n",
      "Try using .loc[row_indexer,col_indexer] = value instead\n",
      "\n",
      "See the caveats in the documentation: https://pandas.pydata.org/pandas-docs/stable/user_guide/indexing.html#returning-a-view-versus-a-copy\n",
      "\n"
     ]
    }
   ],
   "source": [
    "def cleaned_data(d):\n",
    "    d = d[d.total.notnull()]\n",
    "\n",
    "    d.region = d.region.fillna('undefined')\n",
    "    d.crowdfund_amount_contributions_usd = d.crowdfund_amount_contributions_usd.fillna(0)\n",
    "\n",
    "    abc = d.groupby(['grant_id']).agg(grant_uniq=(\"grant_title\", \"nunique\"), mode=(\"grant_title\", lambda x:x.value_counts().index[0]))\n",
    "\n",
    "    for x in abc[abc['grant_uniq']==2].index:\n",
    "        d.loc[lambda df: df['grant_id'] == x, 'grant_title'] = abc.loc[x, 'mode']\n",
    "        \n",
    "    return d.reset_index(drop=True)\n",
    "\n",
    "data = cleaned_data(data)"
   ]
  },
  {
   "cell_type": "markdown",
   "id": "cad5ee85",
   "metadata": {
    "papermill": {
     "duration": 0.032265,
     "end_time": "2022-01-01T06:43:35.434808",
     "exception": false,
     "start_time": "2022-01-01T06:43:35.402543",
     "status": "completed"
    },
    "tags": []
   },
   "source": [
    "# EDA"
   ]
  },
  {
   "cell_type": "markdown",
   "id": "192fcf1e",
   "metadata": {
    "papermill": {
     "duration": 0.032811,
     "end_time": "2022-01-01T06:43:35.500274",
     "exception": false,
     "start_time": "2022-01-01T06:43:35.467463",
     "status": "completed"
    },
    "tags": []
   },
   "source": [
    "Number of unique grants"
   ]
  },
  {
   "cell_type": "code",
   "execution_count": 14,
   "id": "1e45bb10",
   "metadata": {
    "execution": {
     "iopub.execute_input": "2022-01-01T06:43:35.572374Z",
     "iopub.status.busy": "2022-01-01T06:43:35.571385Z",
     "iopub.status.idle": "2022-01-01T06:43:35.576919Z",
     "shell.execute_reply": "2022-01-01T06:43:35.576316Z"
    },
    "jupyter": {
     "source_hidden": true
    },
    "papermill": {
     "duration": 0.04346,
     "end_time": "2022-01-01T06:43:35.577055",
     "exception": false,
     "start_time": "2022-01-01T06:43:35.533595",
     "status": "completed"
    },
    "tags": []
   },
   "outputs": [
    {
     "data": {
      "text/plain": [
       "1886"
      ]
     },
     "execution_count": 14,
     "metadata": {},
     "output_type": "execute_result"
    }
   ],
   "source": [
    "data.grant_title.nunique()"
   ]
  },
  {
   "cell_type": "markdown",
   "id": "f99d4997",
   "metadata": {
    "papermill": {
     "duration": 0.032896,
     "end_time": "2022-01-01T06:43:35.642857",
     "exception": false,
     "start_time": "2022-01-01T06:43:35.609961",
     "status": "completed"
    },
    "tags": []
   },
   "source": [
    "### Adaptation to a better Grant Pool"
   ]
  },
  {
   "cell_type": "code",
   "execution_count": 15,
   "id": "3f260bfc",
   "metadata": {
    "execution": {
     "iopub.execute_input": "2022-01-01T06:43:35.719392Z",
     "iopub.status.busy": "2022-01-01T06:43:35.716811Z",
     "iopub.status.idle": "2022-01-01T06:43:35.804164Z",
     "shell.execute_reply": "2022-01-01T06:43:35.804643Z"
    },
    "jupyter": {
     "source_hidden": true
    },
    "papermill": {
     "duration": 0.128841,
     "end_time": "2022-01-01T06:43:35.804808",
     "exception": false,
     "start_time": "2022-01-01T06:43:35.675967",
     "status": "completed"
    },
    "tags": []
   },
   "outputs": [
    {
     "name": "stdout",
     "output_type": "stream",
     "text": [
      "(8, 2)\n"
     ]
    },
    {
     "data": {
      "text/html": [
       "<div>\n",
       "<style scoped>\n",
       "    .dataframe tbody tr th:only-of-type {\n",
       "        vertical-align: middle;\n",
       "    }\n",
       "\n",
       "    .dataframe tbody tr th {\n",
       "        vertical-align: top;\n",
       "    }\n",
       "\n",
       "    .dataframe thead th {\n",
       "        text-align: right;\n",
       "    }\n",
       "</style>\n",
       "<table border=\"1\" class=\"dataframe\">\n",
       "  <thead>\n",
       "    <tr style=\"text-align: right;\">\n",
       "      <th></th>\n",
       "      <th>num_un_reg</th>\n",
       "      <th>reg</th>\n",
       "    </tr>\n",
       "    <tr>\n",
       "      <th>grant_id</th>\n",
       "      <th></th>\n",
       "      <th></th>\n",
       "    </tr>\n",
       "  </thead>\n",
       "  <tbody>\n",
       "    <tr>\n",
       "      <th>29</th>\n",
       "      <td>2</td>\n",
       "      <td>[undefined, europe]</td>\n",
       "    </tr>\n",
       "    <tr>\n",
       "      <th>49</th>\n",
       "      <td>2</td>\n",
       "      <td>[latin_america, undefined]</td>\n",
       "    </tr>\n",
       "    <tr>\n",
       "      <th>185</th>\n",
       "      <td>2</td>\n",
       "      <td>[none, east_asia]</td>\n",
       "    </tr>\n",
       "    <tr>\n",
       "      <th>806</th>\n",
       "      <td>2</td>\n",
       "      <td>[undefined, north_america]</td>\n",
       "    </tr>\n",
       "    <tr>\n",
       "      <th>1219</th>\n",
       "      <td>2</td>\n",
       "      <td>[middle_east, europe]</td>\n",
       "    </tr>\n",
       "    <tr>\n",
       "      <th>2968</th>\n",
       "      <td>2</td>\n",
       "      <td>[europe, southeast_asia]</td>\n",
       "    </tr>\n",
       "    <tr>\n",
       "      <th>3062</th>\n",
       "      <td>2</td>\n",
       "      <td>[africa, europe]</td>\n",
       "    </tr>\n",
       "    <tr>\n",
       "      <th>3525</th>\n",
       "      <td>2</td>\n",
       "      <td>[undefined, latin_america]</td>\n",
       "    </tr>\n",
       "  </tbody>\n",
       "</table>\n",
       "</div>"
      ],
      "text/plain": [
       "          num_un_reg                         reg\n",
       "grant_id                                        \n",
       "29                 2         [undefined, europe]\n",
       "49                 2  [latin_america, undefined]\n",
       "185                2           [none, east_asia]\n",
       "806                2  [undefined, north_america]\n",
       "1219               2       [middle_east, europe]\n",
       "2968               2    [europe, southeast_asia]\n",
       "3062               2            [africa, europe]\n",
       "3525               2  [undefined, latin_america]"
      ]
     },
     "execution_count": 15,
     "metadata": {},
     "output_type": "execute_result"
    }
   ],
   "source": [
    "unique_regions = [ 'north_america', 'oceania', 'europe',\n",
    "       'latin_america', 'east_asia', 'africa', 'middle_east', 'india',\n",
    "       'southeast_asia']\n",
    "\n",
    "def ddd(x):\n",
    "    i = x.unique()\n",
    "    for x in i:\n",
    "        if x in unique_regions:\n",
    "            return i\n",
    "\n",
    "    return np.nan\n",
    "\n",
    "abc = data.groupby('grant_id').agg(num_un_reg=('region', \"nunique\"),reg=('region', ddd))\n",
    "print(abc[(abc.num_un_reg>1)&(abc.reg.notna())].shape)\n",
    "abc[(abc.num_un_reg>1)&(abc.reg.notna())]"
   ]
  },
  {
   "cell_type": "code",
   "execution_count": 16,
   "id": "1de42a58",
   "metadata": {
    "execution": {
     "iopub.execute_input": "2022-01-01T06:43:35.890708Z",
     "iopub.status.busy": "2022-01-01T06:43:35.880579Z",
     "iopub.status.idle": "2022-01-01T06:43:35.985574Z",
     "shell.execute_reply": "2022-01-01T06:43:35.985055Z"
    },
    "jupyter": {
     "source_hidden": true
    },
    "papermill": {
     "duration": 0.147442,
     "end_time": "2022-01-01T06:43:35.985713",
     "exception": false,
     "start_time": "2022-01-01T06:43:35.838271",
     "status": "completed"
    },
    "tags": []
   },
   "outputs": [
    {
     "name": "stdout",
     "output_type": "stream",
     "text": [
      "(1, 2)\n"
     ]
    },
    {
     "data": {
      "text/html": [
       "<div>\n",
       "<style scoped>\n",
       "    .dataframe tbody tr th:only-of-type {\n",
       "        vertical-align: middle;\n",
       "    }\n",
       "\n",
       "    .dataframe tbody tr th {\n",
       "        vertical-align: top;\n",
       "    }\n",
       "\n",
       "    .dataframe thead th {\n",
       "        text-align: right;\n",
       "    }\n",
       "</style>\n",
       "<table border=\"1\" class=\"dataframe\">\n",
       "  <thead>\n",
       "    <tr style=\"text-align: right;\">\n",
       "      <th></th>\n",
       "      <th>num_un_reg</th>\n",
       "      <th>un_reg</th>\n",
       "    </tr>\n",
       "    <tr>\n",
       "      <th>grant_id</th>\n",
       "      <th></th>\n",
       "      <th></th>\n",
       "    </tr>\n",
       "  </thead>\n",
       "  <tbody>\n",
       "    <tr>\n",
       "      <th>2900</th>\n",
       "      <td>2</td>\n",
       "      <td>[Building Gitcoin, Community]</td>\n",
       "    </tr>\n",
       "  </tbody>\n",
       "</table>\n",
       "</div>"
      ],
      "text/plain": [
       "          num_un_reg                         un_reg\n",
       "grant_id                                           \n",
       "2900               2  [Building Gitcoin, Community]"
      ]
     },
     "execution_count": 16,
     "metadata": {},
     "output_type": "execute_result"
    }
   ],
   "source": [
    "abc = data.groupby('grant_id').agg(num_un_reg=('category', \"nunique\"),un_reg=('category', \"unique\"))\n",
    "print(abc[abc.num_un_reg>1].shape)\n",
    "abc[abc.num_un_reg>1]"
   ]
  },
  {
   "cell_type": "markdown",
   "id": "a6d14e91",
   "metadata": {
    "papermill": {
     "duration": 0.033889,
     "end_time": "2022-01-01T06:43:36.053932",
     "exception": false,
     "start_time": "2022-01-01T06:43:36.020043",
     "status": "completed"
    },
    "tags": []
   },
   "source": [
    "### different Ids but the same grant pattern\n",
    "\n",
    "These grants are"
   ]
  },
  {
   "cell_type": "code",
   "execution_count": 17,
   "id": "5737ab52",
   "metadata": {
    "execution": {
     "iopub.execute_input": "2022-01-01T06:43:36.128752Z",
     "iopub.status.busy": "2022-01-01T06:43:36.128091Z",
     "iopub.status.idle": "2022-01-01T06:43:36.132155Z",
     "shell.execute_reply": "2022-01-01T06:43:36.131578Z"
    },
    "papermill": {
     "duration": 0.04409,
     "end_time": "2022-01-01T06:43:36.132292",
     "exception": false,
     "start_time": "2022-01-01T06:43:36.088202",
     "status": "completed"
    },
    "tags": []
   },
   "outputs": [
    {
     "data": {
      "text/plain": [
       "Index(['round_number', 'round_start_date', 'round_end_date', 'grant_title',\n",
       "       'grant_id', 'region', 'category', 'url', 'match_amount',\n",
       "       'num_contributions', 'num_unique_contributors',\n",
       "       'crowdfund_amount_contributions_usd', 'total'],\n",
       "      dtype='object')"
      ]
     },
     "execution_count": 17,
     "metadata": {},
     "output_type": "execute_result"
    }
   ],
   "source": [
    "data.columns"
   ]
  },
  {
   "cell_type": "code",
   "execution_count": 18,
   "id": "6a254594",
   "metadata": {
    "execution": {
     "iopub.execute_input": "2022-01-01T06:43:36.205794Z",
     "iopub.status.busy": "2022-01-01T06:43:36.205213Z",
     "iopub.status.idle": "2022-01-01T06:43:36.293624Z",
     "shell.execute_reply": "2022-01-01T06:43:36.294072Z"
    },
    "papermill": {
     "duration": 0.126985,
     "end_time": "2022-01-01T06:43:36.294286",
     "exception": false,
     "start_time": "2022-01-01T06:43:36.167301",
     "status": "completed"
    },
    "tags": []
   },
   "outputs": [
    {
     "data": {
      "text/plain": [
       "44"
      ]
     },
     "execution_count": 18,
     "metadata": {},
     "output_type": "execute_result"
    }
   ],
   "source": [
    "def diff(x):\n",
    "    return x.max()-x.min()\n",
    "abc = data.groupby('grant_title').agg({\"grant_id\": diff})\n",
    "len(abc[abc.grant_id>0].index)"
   ]
  },
  {
   "cell_type": "code",
   "execution_count": 19,
   "id": "1881610a",
   "metadata": {
    "execution": {
     "iopub.execute_input": "2022-01-01T06:43:36.368702Z",
     "iopub.status.busy": "2022-01-01T06:43:36.368041Z",
     "iopub.status.idle": "2022-01-01T06:43:36.392584Z",
     "shell.execute_reply": "2022-01-01T06:43:36.393156Z"
    },
    "papermill": {
     "duration": 0.063707,
     "end_time": "2022-01-01T06:43:36.393325",
     "exception": false,
     "start_time": "2022-01-01T06:43:36.329618",
     "status": "completed"
    },
    "tags": []
   },
   "outputs": [
    {
     "data": {
      "text/html": [
       "<div>\n",
       "<style scoped>\n",
       "    .dataframe tbody tr th:only-of-type {\n",
       "        vertical-align: middle;\n",
       "    }\n",
       "\n",
       "    .dataframe tbody tr th {\n",
       "        vertical-align: top;\n",
       "    }\n",
       "\n",
       "    .dataframe thead th {\n",
       "        text-align: right;\n",
       "    }\n",
       "</style>\n",
       "<table border=\"1\" class=\"dataframe\">\n",
       "  <thead>\n",
       "    <tr style=\"text-align: right;\">\n",
       "      <th></th>\n",
       "      <th>round_number</th>\n",
       "      <th>round_start_date</th>\n",
       "      <th>round_end_date</th>\n",
       "      <th>grant_title</th>\n",
       "      <th>grant_id</th>\n",
       "      <th>region</th>\n",
       "      <th>category</th>\n",
       "      <th>url</th>\n",
       "      <th>match_amount</th>\n",
       "      <th>num_contributions</th>\n",
       "      <th>num_unique_contributors</th>\n",
       "      <th>crowdfund_amount_contributions_usd</th>\n",
       "      <th>total</th>\n",
       "    </tr>\n",
       "  </thead>\n",
       "  <tbody>\n",
       "    <tr>\n",
       "      <th>838</th>\n",
       "      <td>6</td>\n",
       "      <td>2020-06-16</td>\n",
       "      <td>2020-07-03</td>\n",
       "      <td>1Hive Gardens</td>\n",
       "      <td>899</td>\n",
       "      <td>undefined</td>\n",
       "      <td>dApp Tech</td>\n",
       "      <td>https://gitcoin.co/grants/899/1hive-gardens</td>\n",
       "      <td>53.10</td>\n",
       "      <td>21</td>\n",
       "      <td>18</td>\n",
       "      <td>432.89</td>\n",
       "      <td>486.00</td>\n",
       "    </tr>\n",
       "    <tr>\n",
       "      <th>1212</th>\n",
       "      <td>7</td>\n",
       "      <td>2020-09-14</td>\n",
       "      <td>2020-10-02</td>\n",
       "      <td>1Hive Gardens</td>\n",
       "      <td>899</td>\n",
       "      <td>undefined</td>\n",
       "      <td>dApp Tech</td>\n",
       "      <td>https://gitcoin.co/grants/899/1hive-gardens</td>\n",
       "      <td>21.22</td>\n",
       "      <td>14</td>\n",
       "      <td>12</td>\n",
       "      <td>666.98</td>\n",
       "      <td>688.20</td>\n",
       "    </tr>\n",
       "    <tr>\n",
       "      <th>1784</th>\n",
       "      <td>8</td>\n",
       "      <td>2020-12-01</td>\n",
       "      <td>2020-12-18</td>\n",
       "      <td>1Hive Gardens</td>\n",
       "      <td>899</td>\n",
       "      <td>undefined</td>\n",
       "      <td>dApp Tech</td>\n",
       "      <td>https://gitcoin.co/grants/899/1hive-gardens</td>\n",
       "      <td>26.40</td>\n",
       "      <td>80</td>\n",
       "      <td>20</td>\n",
       "      <td>477.06</td>\n",
       "      <td>503.46</td>\n",
       "    </tr>\n",
       "    <tr>\n",
       "      <th>1971</th>\n",
       "      <td>9</td>\n",
       "      <td>2021-03-10</td>\n",
       "      <td>2021-03-25</td>\n",
       "      <td>1Hive Gardens</td>\n",
       "      <td>899</td>\n",
       "      <td>undefined</td>\n",
       "      <td>dApp Tech</td>\n",
       "      <td>https://gitcoin.co/grants/899/1hive-gardens</td>\n",
       "      <td>2.83</td>\n",
       "      <td>36</td>\n",
       "      <td>35</td>\n",
       "      <td>347.57</td>\n",
       "      <td>350.40</td>\n",
       "    </tr>\n",
       "    <tr>\n",
       "      <th>3147</th>\n",
       "      <td>10</td>\n",
       "      <td>2021-06-16</td>\n",
       "      <td>2021-07-02</td>\n",
       "      <td>1Hive Gardens</td>\n",
       "      <td>899</td>\n",
       "      <td>undefined</td>\n",
       "      <td>dApp Tech</td>\n",
       "      <td>https://gitcoin.co/grants/899/1hive-gardens</td>\n",
       "      <td>3.64</td>\n",
       "      <td>51</td>\n",
       "      <td>49</td>\n",
       "      <td>448.91</td>\n",
       "      <td>452.54</td>\n",
       "    </tr>\n",
       "    <tr>\n",
       "      <th>3958</th>\n",
       "      <td>11</td>\n",
       "      <td>2021-09-08</td>\n",
       "      <td>2021-09-24</td>\n",
       "      <td>1Hive Gardens</td>\n",
       "      <td>3565</td>\n",
       "      <td>none</td>\n",
       "      <td>dGov</td>\n",
       "      <td>https://gitcoin.co/grants/3565/1hive-gardens</td>\n",
       "      <td>47.84</td>\n",
       "      <td>1</td>\n",
       "      <td>0</td>\n",
       "      <td>0.00</td>\n",
       "      <td>47.84</td>\n",
       "    </tr>\n",
       "    <tr>\n",
       "      <th>4465</th>\n",
       "      <td>12</td>\n",
       "      <td>2021-12-01</td>\n",
       "      <td>2021-12-16</td>\n",
       "      <td>1Hive Gardens</td>\n",
       "      <td>899</td>\n",
       "      <td>undefined</td>\n",
       "      <td>dApp Tech</td>\n",
       "      <td>https://gitcoin.co/grants/899/1hive-gardens</td>\n",
       "      <td>1381.40</td>\n",
       "      <td>952</td>\n",
       "      <td>919</td>\n",
       "      <td>3544.39</td>\n",
       "      <td>4925.79</td>\n",
       "    </tr>\n",
       "    <tr>\n",
       "      <th>1598</th>\n",
       "      <td>8</td>\n",
       "      <td>2020-12-01</td>\n",
       "      <td>2020-12-18</td>\n",
       "      <td>APY Vision</td>\n",
       "      <td>1556</td>\n",
       "      <td>none</td>\n",
       "      <td>dApp Tech</td>\n",
       "      <td>https://gitcoin.co/grants/1556/apy-vision</td>\n",
       "      <td>15524.23</td>\n",
       "      <td>1456</td>\n",
       "      <td>344</td>\n",
       "      <td>18378.35</td>\n",
       "      <td>33902.58</td>\n",
       "    </tr>\n",
       "    <tr>\n",
       "      <th>2046</th>\n",
       "      <td>9</td>\n",
       "      <td>2021-03-10</td>\n",
       "      <td>2021-03-25</td>\n",
       "      <td>APY Vision</td>\n",
       "      <td>1556</td>\n",
       "      <td>none</td>\n",
       "      <td>dApp Tech</td>\n",
       "      <td>https://gitcoin.co/grants/1556/apy-vision</td>\n",
       "      <td>13358.84</td>\n",
       "      <td>3053</td>\n",
       "      <td>2512</td>\n",
       "      <td>13635.39</td>\n",
       "      <td>26994.23</td>\n",
       "    </tr>\n",
       "    <tr>\n",
       "      <th>3071</th>\n",
       "      <td>10</td>\n",
       "      <td>2021-06-16</td>\n",
       "      <td>2021-07-02</td>\n",
       "      <td>APY Vision</td>\n",
       "      <td>1556</td>\n",
       "      <td>none</td>\n",
       "      <td>dApp Tech</td>\n",
       "      <td>https://gitcoin.co/grants/1556/apy-vision</td>\n",
       "      <td>5276.18</td>\n",
       "      <td>2518</td>\n",
       "      <td>2285</td>\n",
       "      <td>6259.31</td>\n",
       "      <td>11535.50</td>\n",
       "    </tr>\n",
       "    <tr>\n",
       "      <th>3639</th>\n",
       "      <td>11</td>\n",
       "      <td>2021-09-08</td>\n",
       "      <td>2021-09-24</td>\n",
       "      <td>APY Vision</td>\n",
       "      <td>2159</td>\n",
       "      <td>none</td>\n",
       "      <td>dApp Tech</td>\n",
       "      <td>https://gitcoin.co/grants/2159/apy-vision</td>\n",
       "      <td>1385.19</td>\n",
       "      <td>1</td>\n",
       "      <td>0</td>\n",
       "      <td>0.00</td>\n",
       "      <td>1385.19</td>\n",
       "    </tr>\n",
       "    <tr>\n",
       "      <th>4842</th>\n",
       "      <td>12</td>\n",
       "      <td>2021-12-01</td>\n",
       "      <td>2021-12-16</td>\n",
       "      <td>APY Vision</td>\n",
       "      <td>1556</td>\n",
       "      <td>undefined</td>\n",
       "      <td>dApp Tech</td>\n",
       "      <td>https://gitcoin.co/grants/1556/apy-vision</td>\n",
       "      <td>5.81</td>\n",
       "      <td>47</td>\n",
       "      <td>47</td>\n",
       "      <td>242.83</td>\n",
       "      <td>248.64</td>\n",
       "    </tr>\n",
       "    <tr>\n",
       "      <th>2483</th>\n",
       "      <td>9</td>\n",
       "      <td>2021-03-10</td>\n",
       "      <td>2021-03-25</td>\n",
       "      <td>AhhSun | Nfts Art</td>\n",
       "      <td>2341</td>\n",
       "      <td>undefined</td>\n",
       "      <td>NFTs</td>\n",
       "      <td>https://gitcoin.co/grants/2341/ahhsun-nfts-art</td>\n",
       "      <td>0.12</td>\n",
       "      <td>18</td>\n",
       "      <td>18</td>\n",
       "      <td>21.50</td>\n",
       "      <td>21.62</td>\n",
       "    </tr>\n",
       "    <tr>\n",
       "      <th>2579</th>\n",
       "      <td>10</td>\n",
       "      <td>2021-06-16</td>\n",
       "      <td>2021-07-02</td>\n",
       "      <td>AhhSun | Nfts Art</td>\n",
       "      <td>2878</td>\n",
       "      <td>latin_america</td>\n",
       "      <td>NFTs</td>\n",
       "      <td>https://gitcoin.co/grants/2878/ahhsun-nfts-art</td>\n",
       "      <td>1.84</td>\n",
       "      <td>28</td>\n",
       "      <td>18</td>\n",
       "      <td>74.46</td>\n",
       "      <td>76.29</td>\n",
       "    </tr>\n",
       "    <tr>\n",
       "      <th>4047</th>\n",
       "      <td>11</td>\n",
       "      <td>2021-09-08</td>\n",
       "      <td>2021-09-24</td>\n",
       "      <td>AhhSun | Nfts Art</td>\n",
       "      <td>2878</td>\n",
       "      <td>latin_america</td>\n",
       "      <td>NFTs</td>\n",
       "      <td>https://gitcoin.co/grants/2878/ahhsun-nfts-art</td>\n",
       "      <td>0.03</td>\n",
       "      <td>7</td>\n",
       "      <td>7</td>\n",
       "      <td>22.84</td>\n",
       "      <td>22.87</td>\n",
       "    </tr>\n",
       "    <tr>\n",
       "      <th>4878</th>\n",
       "      <td>12</td>\n",
       "      <td>2021-12-01</td>\n",
       "      <td>2021-12-16</td>\n",
       "      <td>AhhSun | Nfts Art</td>\n",
       "      <td>2878</td>\n",
       "      <td>latin_america</td>\n",
       "      <td>NFTs</td>\n",
       "      <td>https://gitcoin.co/grants/2878/ahhsun-nfts-art</td>\n",
       "      <td>0.00</td>\n",
       "      <td>2</td>\n",
       "      <td>2</td>\n",
       "      <td>2.20</td>\n",
       "      <td>2.20</td>\n",
       "    </tr>\n",
       "    <tr>\n",
       "      <th>1114</th>\n",
       "      <td>6</td>\n",
       "      <td>2020-06-16</td>\n",
       "      <td>2020-07-03</td>\n",
       "      <td>Atstake: A marketplace for any kind of contract between two people</td>\n",
       "      <td>588</td>\n",
       "      <td>none</td>\n",
       "      <td>Infra Tech</td>\n",
       "      <td>https://gitcoin.co/grants/588/atstake-a-marketplace-for-any-kind-of-contract-be</td>\n",
       "      <td>0.29</td>\n",
       "      <td>1</td>\n",
       "      <td>0</td>\n",
       "      <td>0.00</td>\n",
       "      <td>0.29</td>\n",
       "    </tr>\n",
       "    <tr>\n",
       "      <th>3812</th>\n",
       "      <td>11</td>\n",
       "      <td>2021-09-08</td>\n",
       "      <td>2021-09-24</td>\n",
       "      <td>Atstake: A marketplace for any kind of contract between two people</td>\n",
       "      <td>574</td>\n",
       "      <td>none</td>\n",
       "      <td>dApp Tech</td>\n",
       "      <td>https://gitcoin.co/grants/574/atstake-a-marketplace-for-any-kind-of-contract-be</td>\n",
       "      <td>0.12</td>\n",
       "      <td>1</td>\n",
       "      <td>0</td>\n",
       "      <td>0.00</td>\n",
       "      <td>0.12</td>\n",
       "    </tr>\n",
       "    <tr>\n",
       "      <th>3979</th>\n",
       "      <td>11</td>\n",
       "      <td>2021-09-08</td>\n",
       "      <td>2021-09-24</td>\n",
       "      <td>Atstake: A marketplace for any kind of contract between two people</td>\n",
       "      <td>588</td>\n",
       "      <td>none</td>\n",
       "      <td>Infra Tech</td>\n",
       "      <td>https://gitcoin.co/grants/588/atstake-a-marketplace-for-any-kind-of-contract-be</td>\n",
       "      <td>0.12</td>\n",
       "      <td>14</td>\n",
       "      <td>14</td>\n",
       "      <td>44.93</td>\n",
       "      <td>45.05</td>\n",
       "    </tr>\n",
       "    <tr>\n",
       "      <th>267</th>\n",
       "      <td>4</td>\n",
       "      <td>2020-01-06</td>\n",
       "      <td>2020-01-21</td>\n",
       "      <td>Circles UBI</td>\n",
       "      <td>331</td>\n",
       "      <td>undefined</td>\n",
       "      <td>Infra Tech</td>\n",
       "      <td>https://gitcoin.co/grants/331/circles-ubi</td>\n",
       "      <td>35.00</td>\n",
       "      <td>12</td>\n",
       "      <td>11</td>\n",
       "      <td>80.00</td>\n",
       "      <td>115.00</td>\n",
       "    </tr>\n",
       "    <tr>\n",
       "      <th>444</th>\n",
       "      <td>5</td>\n",
       "      <td>2020-03-23</td>\n",
       "      <td>2020-04-05</td>\n",
       "      <td>Circles UBI</td>\n",
       "      <td>331</td>\n",
       "      <td>undefined</td>\n",
       "      <td>Infra Tech</td>\n",
       "      <td>https://gitcoin.co/grants/331/circles-ubi</td>\n",
       "      <td>4.68</td>\n",
       "      <td>1</td>\n",
       "      <td>1</td>\n",
       "      <td>9.76</td>\n",
       "      <td>14.44</td>\n",
       "    </tr>\n",
       "    <tr>\n",
       "      <th>582</th>\n",
       "      <td>6</td>\n",
       "      <td>2020-06-16</td>\n",
       "      <td>2020-07-03</td>\n",
       "      <td>Circles UBI</td>\n",
       "      <td>331</td>\n",
       "      <td>undefined</td>\n",
       "      <td>Infra Tech</td>\n",
       "      <td>https://gitcoin.co/grants/331/circles-ubi</td>\n",
       "      <td>8.48</td>\n",
       "      <td>7</td>\n",
       "      <td>7</td>\n",
       "      <td>35.61</td>\n",
       "      <td>44.09</td>\n",
       "    </tr>\n",
       "    <tr>\n",
       "      <th>1591</th>\n",
       "      <td>8</td>\n",
       "      <td>2020-12-01</td>\n",
       "      <td>2020-12-18</td>\n",
       "      <td>Circles UBI</td>\n",
       "      <td>331</td>\n",
       "      <td>undefined</td>\n",
       "      <td>Infra Tech</td>\n",
       "      <td>https://gitcoin.co/grants/331/circles-ubi</td>\n",
       "      <td>3511.53</td>\n",
       "      <td>524</td>\n",
       "      <td>123</td>\n",
       "      <td>41928.48</td>\n",
       "      <td>45440.02</td>\n",
       "    </tr>\n",
       "    <tr>\n",
       "      <th>2063</th>\n",
       "      <td>9</td>\n",
       "      <td>2021-03-10</td>\n",
       "      <td>2021-03-25</td>\n",
       "      <td>Circles UBI</td>\n",
       "      <td>331</td>\n",
       "      <td>undefined</td>\n",
       "      <td>Infra Tech</td>\n",
       "      <td>https://gitcoin.co/grants/331/circles-ubi</td>\n",
       "      <td>9392.82</td>\n",
       "      <td>2421</td>\n",
       "      <td>1797</td>\n",
       "      <td>10683.93</td>\n",
       "      <td>20076.76</td>\n",
       "    </tr>\n",
       "    <tr>\n",
       "      <th>3022</th>\n",
       "      <td>10</td>\n",
       "      <td>2021-06-16</td>\n",
       "      <td>2021-07-02</td>\n",
       "      <td>Circles UBI</td>\n",
       "      <td>331</td>\n",
       "      <td>undefined</td>\n",
       "      <td>Infra Tech</td>\n",
       "      <td>https://gitcoin.co/grants/331/circles-ubi</td>\n",
       "      <td>7908.86</td>\n",
       "      <td>3259</td>\n",
       "      <td>2894</td>\n",
       "      <td>8147.22</td>\n",
       "      <td>16056.08</td>\n",
       "    </tr>\n",
       "  </tbody>\n",
       "</table>\n",
       "</div>"
      ],
      "text/plain": [
       "      round_number round_start_date round_end_date  \\\n",
       "838              6       2020-06-16     2020-07-03   \n",
       "1212             7       2020-09-14     2020-10-02   \n",
       "1784             8       2020-12-01     2020-12-18   \n",
       "1971             9       2021-03-10     2021-03-25   \n",
       "3147            10       2021-06-16     2021-07-02   \n",
       "3958            11       2021-09-08     2021-09-24   \n",
       "4465            12       2021-12-01     2021-12-16   \n",
       "1598             8       2020-12-01     2020-12-18   \n",
       "2046             9       2021-03-10     2021-03-25   \n",
       "3071            10       2021-06-16     2021-07-02   \n",
       "3639            11       2021-09-08     2021-09-24   \n",
       "4842            12       2021-12-01     2021-12-16   \n",
       "2483             9       2021-03-10     2021-03-25   \n",
       "2579            10       2021-06-16     2021-07-02   \n",
       "4047            11       2021-09-08     2021-09-24   \n",
       "4878            12       2021-12-01     2021-12-16   \n",
       "1114             6       2020-06-16     2020-07-03   \n",
       "3812            11       2021-09-08     2021-09-24   \n",
       "3979            11       2021-09-08     2021-09-24   \n",
       "267              4       2020-01-06     2020-01-21   \n",
       "444              5       2020-03-23     2020-04-05   \n",
       "582              6       2020-06-16     2020-07-03   \n",
       "1591             8       2020-12-01     2020-12-18   \n",
       "2063             9       2021-03-10     2021-03-25   \n",
       "3022            10       2021-06-16     2021-07-02   \n",
       "\n",
       "                                                             grant_title  \\\n",
       "838                                                        1Hive Gardens   \n",
       "1212                                                       1Hive Gardens   \n",
       "1784                                                       1Hive Gardens   \n",
       "1971                                                       1Hive Gardens   \n",
       "3147                                                       1Hive Gardens   \n",
       "3958                                                       1Hive Gardens   \n",
       "4465                                                       1Hive Gardens   \n",
       "1598                                                          APY Vision   \n",
       "2046                                                          APY Vision   \n",
       "3071                                                          APY Vision   \n",
       "3639                                                          APY Vision   \n",
       "4842                                                          APY Vision   \n",
       "2483                                                   AhhSun | Nfts Art   \n",
       "2579                                                   AhhSun | Nfts Art   \n",
       "4047                                                   AhhSun | Nfts Art   \n",
       "4878                                                   AhhSun | Nfts Art   \n",
       "1114  Atstake: A marketplace for any kind of contract between two people   \n",
       "3812  Atstake: A marketplace for any kind of contract between two people   \n",
       "3979  Atstake: A marketplace for any kind of contract between two people   \n",
       "267                                                          Circles UBI   \n",
       "444                                                          Circles UBI   \n",
       "582                                                          Circles UBI   \n",
       "1591                                                         Circles UBI   \n",
       "2063                                                         Circles UBI   \n",
       "3022                                                         Circles UBI   \n",
       "\n",
       "      grant_id         region    category  \\\n",
       "838        899      undefined   dApp Tech   \n",
       "1212       899      undefined   dApp Tech   \n",
       "1784       899      undefined   dApp Tech   \n",
       "1971       899      undefined   dApp Tech   \n",
       "3147       899      undefined   dApp Tech   \n",
       "3958      3565           none        dGov   \n",
       "4465       899      undefined   dApp Tech   \n",
       "1598      1556           none   dApp Tech   \n",
       "2046      1556           none   dApp Tech   \n",
       "3071      1556           none   dApp Tech   \n",
       "3639      2159           none   dApp Tech   \n",
       "4842      1556      undefined   dApp Tech   \n",
       "2483      2341      undefined        NFTs   \n",
       "2579      2878  latin_america        NFTs   \n",
       "4047      2878  latin_america        NFTs   \n",
       "4878      2878  latin_america        NFTs   \n",
       "1114       588           none  Infra Tech   \n",
       "3812       574           none   dApp Tech   \n",
       "3979       588           none  Infra Tech   \n",
       "267        331      undefined  Infra Tech   \n",
       "444        331      undefined  Infra Tech   \n",
       "582        331      undefined  Infra Tech   \n",
       "1591       331      undefined  Infra Tech   \n",
       "2063       331      undefined  Infra Tech   \n",
       "3022       331      undefined  Infra Tech   \n",
       "\n",
       "                                                                                  url  \\\n",
       "838                                       https://gitcoin.co/grants/899/1hive-gardens   \n",
       "1212                                      https://gitcoin.co/grants/899/1hive-gardens   \n",
       "1784                                      https://gitcoin.co/grants/899/1hive-gardens   \n",
       "1971                                      https://gitcoin.co/grants/899/1hive-gardens   \n",
       "3147                                      https://gitcoin.co/grants/899/1hive-gardens   \n",
       "3958                                     https://gitcoin.co/grants/3565/1hive-gardens   \n",
       "4465                                      https://gitcoin.co/grants/899/1hive-gardens   \n",
       "1598                                        https://gitcoin.co/grants/1556/apy-vision   \n",
       "2046                                        https://gitcoin.co/grants/1556/apy-vision   \n",
       "3071                                        https://gitcoin.co/grants/1556/apy-vision   \n",
       "3639                                        https://gitcoin.co/grants/2159/apy-vision   \n",
       "4842                                        https://gitcoin.co/grants/1556/apy-vision   \n",
       "2483                                   https://gitcoin.co/grants/2341/ahhsun-nfts-art   \n",
       "2579                                   https://gitcoin.co/grants/2878/ahhsun-nfts-art   \n",
       "4047                                   https://gitcoin.co/grants/2878/ahhsun-nfts-art   \n",
       "4878                                   https://gitcoin.co/grants/2878/ahhsun-nfts-art   \n",
       "1114  https://gitcoin.co/grants/588/atstake-a-marketplace-for-any-kind-of-contract-be   \n",
       "3812  https://gitcoin.co/grants/574/atstake-a-marketplace-for-any-kind-of-contract-be   \n",
       "3979  https://gitcoin.co/grants/588/atstake-a-marketplace-for-any-kind-of-contract-be   \n",
       "267                                         https://gitcoin.co/grants/331/circles-ubi   \n",
       "444                                         https://gitcoin.co/grants/331/circles-ubi   \n",
       "582                                         https://gitcoin.co/grants/331/circles-ubi   \n",
       "1591                                        https://gitcoin.co/grants/331/circles-ubi   \n",
       "2063                                        https://gitcoin.co/grants/331/circles-ubi   \n",
       "3022                                        https://gitcoin.co/grants/331/circles-ubi   \n",
       "\n",
       "      match_amount  num_contributions  num_unique_contributors  \\\n",
       "838          53.10                 21                       18   \n",
       "1212         21.22                 14                       12   \n",
       "1784         26.40                 80                       20   \n",
       "1971          2.83                 36                       35   \n",
       "3147          3.64                 51                       49   \n",
       "3958         47.84                  1                        0   \n",
       "4465       1381.40                952                      919   \n",
       "1598      15524.23               1456                      344   \n",
       "2046      13358.84               3053                     2512   \n",
       "3071       5276.18               2518                     2285   \n",
       "3639       1385.19                  1                        0   \n",
       "4842          5.81                 47                       47   \n",
       "2483          0.12                 18                       18   \n",
       "2579          1.84                 28                       18   \n",
       "4047          0.03                  7                        7   \n",
       "4878          0.00                  2                        2   \n",
       "1114          0.29                  1                        0   \n",
       "3812          0.12                  1                        0   \n",
       "3979          0.12                 14                       14   \n",
       "267          35.00                 12                       11   \n",
       "444           4.68                  1                        1   \n",
       "582           8.48                  7                        7   \n",
       "1591       3511.53                524                      123   \n",
       "2063       9392.82               2421                     1797   \n",
       "3022       7908.86               3259                     2894   \n",
       "\n",
       "      crowdfund_amount_contributions_usd     total  \n",
       "838                               432.89    486.00  \n",
       "1212                              666.98    688.20  \n",
       "1784                              477.06    503.46  \n",
       "1971                              347.57    350.40  \n",
       "3147                              448.91    452.54  \n",
       "3958                                0.00     47.84  \n",
       "4465                             3544.39   4925.79  \n",
       "1598                            18378.35  33902.58  \n",
       "2046                            13635.39  26994.23  \n",
       "3071                             6259.31  11535.50  \n",
       "3639                                0.00   1385.19  \n",
       "4842                              242.83    248.64  \n",
       "2483                               21.50     21.62  \n",
       "2579                               74.46     76.29  \n",
       "4047                               22.84     22.87  \n",
       "4878                                2.20      2.20  \n",
       "1114                                0.00      0.29  \n",
       "3812                                0.00      0.12  \n",
       "3979                               44.93     45.05  \n",
       "267                                80.00    115.00  \n",
       "444                                 9.76     14.44  \n",
       "582                                35.61     44.09  \n",
       "1591                            41928.48  45440.02  \n",
       "2063                            10683.93  20076.76  \n",
       "3022                             8147.22  16056.08  "
      ]
     },
     "execution_count": 19,
     "metadata": {},
     "output_type": "execute_result"
    }
   ],
   "source": [
    "data[data.grant_title.isin(abc[abc.grant_id>0].index)].sort_values(['grant_title','round_number']).head(25)"
   ]
  },
  {
   "cell_type": "markdown",
   "id": "1a69a15d",
   "metadata": {
    "papermill": {
     "duration": 0.035673,
     "end_time": "2022-01-01T06:43:36.465179",
     "exception": false,
     "start_time": "2022-01-01T06:43:36.429506",
     "status": "completed"
    },
    "tags": []
   },
   "source": [
    "## "
   ]
  },
  {
   "cell_type": "markdown",
   "id": "9e1d07e7",
   "metadata": {
    "papermill": {
     "duration": 0.035882,
     "end_time": "2022-01-01T06:43:36.537046",
     "exception": false,
     "start_time": "2022-01-01T06:43:36.501164",
     "status": "completed"
    },
    "tags": []
   },
   "source": [
    "# EDA Region"
   ]
  },
  {
   "cell_type": "code",
   "execution_count": 20,
   "id": "7559fd23",
   "metadata": {
    "execution": {
     "iopub.execute_input": "2022-01-01T06:43:36.613678Z",
     "iopub.status.busy": "2022-01-01T06:43:36.612771Z",
     "iopub.status.idle": "2022-01-01T06:43:36.682795Z",
     "shell.execute_reply": "2022-01-01T06:43:36.682292Z"
    },
    "papermill": {
     "duration": 0.109736,
     "end_time": "2022-01-01T06:43:36.682927",
     "exception": false,
     "start_time": "2022-01-01T06:43:36.573191",
     "status": "completed"
    },
    "tags": []
   },
   "outputs": [
    {
     "data": {
      "text/html": [
       "<div>\n",
       "<style scoped>\n",
       "    .dataframe tbody tr th:only-of-type {\n",
       "        vertical-align: middle;\n",
       "    }\n",
       "\n",
       "    .dataframe tbody tr th {\n",
       "        vertical-align: top;\n",
       "    }\n",
       "\n",
       "    .dataframe thead th {\n",
       "        text-align: right;\n",
       "    }\n",
       "</style>\n",
       "<table border=\"1\" class=\"dataframe\">\n",
       "  <thead>\n",
       "    <tr style=\"text-align: right;\">\n",
       "      <th></th>\n",
       "      <th></th>\n",
       "      <th>grant_uniq</th>\n",
       "      <th>total_sum</th>\n",
       "      <th>total_mean</th>\n",
       "      <th>unique_contributors_mean</th>\n",
       "      <th>match_mean</th>\n",
       "      <th>mode</th>\n",
       "      <th>crowdsourced_mean</th>\n",
       "    </tr>\n",
       "    <tr>\n",
       "      <th>round_number</th>\n",
       "      <th>region</th>\n",
       "      <th></th>\n",
       "      <th></th>\n",
       "      <th></th>\n",
       "      <th></th>\n",
       "      <th></th>\n",
       "      <th></th>\n",
       "      <th></th>\n",
       "    </tr>\n",
       "  </thead>\n",
       "  <tbody>\n",
       "    <tr>\n",
       "      <th rowspan=\"5\" valign=\"top\">1</th>\n",
       "      <th>europe</th>\n",
       "      <td>1</td>\n",
       "      <td>474.30</td>\n",
       "      <td>474.300000</td>\n",
       "      <td>3.000000</td>\n",
       "      <td>374.300000</td>\n",
       "      <td>Community</td>\n",
       "      <td>100.000000</td>\n",
       "    </tr>\n",
       "    <tr>\n",
       "      <th>none</th>\n",
       "      <td>16</td>\n",
       "      <td>19114.82</td>\n",
       "      <td>1194.676250</td>\n",
       "      <td>5.000000</td>\n",
       "      <td>836.831875</td>\n",
       "      <td>dApp Tech</td>\n",
       "      <td>357.844375</td>\n",
       "    </tr>\n",
       "    <tr>\n",
       "      <th>north_america</th>\n",
       "      <td>4</td>\n",
       "      <td>11639.37</td>\n",
       "      <td>2909.842500</td>\n",
       "      <td>5.500000</td>\n",
       "      <td>1686.712500</td>\n",
       "      <td>Infra Tech</td>\n",
       "      <td>1223.130000</td>\n",
       "    </tr>\n",
       "    <tr>\n",
       "      <th>oceania</th>\n",
       "      <td>1</td>\n",
       "      <td>2105.16</td>\n",
       "      <td>2105.160000</td>\n",
       "      <td>5.000000</td>\n",
       "      <td>1460.160000</td>\n",
       "      <td>Infra Tech</td>\n",
       "      <td>645.000000</td>\n",
       "    </tr>\n",
       "    <tr>\n",
       "      <th>undefined</th>\n",
       "      <td>4</td>\n",
       "      <td>5327.45</td>\n",
       "      <td>1331.862500</td>\n",
       "      <td>4.250000</td>\n",
       "      <td>757.347500</td>\n",
       "      <td>Infra Tech</td>\n",
       "      <td>574.515000</td>\n",
       "    </tr>\n",
       "    <tr>\n",
       "      <th>...</th>\n",
       "      <th>...</th>\n",
       "      <td>...</td>\n",
       "      <td>...</td>\n",
       "      <td>...</td>\n",
       "      <td>...</td>\n",
       "      <td>...</td>\n",
       "      <td>...</td>\n",
       "      <td>...</td>\n",
       "    </tr>\n",
       "    <tr>\n",
       "      <th rowspan=\"5\" valign=\"top\">12</th>\n",
       "      <th>none</th>\n",
       "      <td>82</td>\n",
       "      <td>160745.19</td>\n",
       "      <td>1960.307195</td>\n",
       "      <td>95.768293</td>\n",
       "      <td>560.032439</td>\n",
       "      <td>dApp Tech</td>\n",
       "      <td>1400.274756</td>\n",
       "    </tr>\n",
       "    <tr>\n",
       "      <th>north_america</th>\n",
       "      <td>264</td>\n",
       "      <td>2341628.83</td>\n",
       "      <td>8836.335208</td>\n",
       "      <td>368.818868</td>\n",
       "      <td>5117.569585</td>\n",
       "      <td>Community</td>\n",
       "      <td>3718.765849</td>\n",
       "    </tr>\n",
       "    <tr>\n",
       "      <th>oceania</th>\n",
       "      <td>9</td>\n",
       "      <td>49132.57</td>\n",
       "      <td>5459.174444</td>\n",
       "      <td>517.000000</td>\n",
       "      <td>2555.293333</td>\n",
       "      <td>Community</td>\n",
       "      <td>2903.882222</td>\n",
       "    </tr>\n",
       "    <tr>\n",
       "      <th>southeast_asia</th>\n",
       "      <td>20</td>\n",
       "      <td>107379.79</td>\n",
       "      <td>5368.989500</td>\n",
       "      <td>512.900000</td>\n",
       "      <td>1831.540000</td>\n",
       "      <td>NFTs</td>\n",
       "      <td>3537.448500</td>\n",
       "    </tr>\n",
       "    <tr>\n",
       "      <th>undefined</th>\n",
       "      <td>111</td>\n",
       "      <td>1341445.85</td>\n",
       "      <td>12085.097748</td>\n",
       "      <td>715.126126</td>\n",
       "      <td>5448.014234</td>\n",
       "      <td>Community</td>\n",
       "      <td>6637.084324</td>\n",
       "    </tr>\n",
       "  </tbody>\n",
       "</table>\n",
       "<p>111 rows × 7 columns</p>\n",
       "</div>"
      ],
      "text/plain": [
       "                             grant_uniq   total_sum    total_mean  \\\n",
       "round_number region                                                 \n",
       "1            europe                   1      474.30    474.300000   \n",
       "             none                    16    19114.82   1194.676250   \n",
       "             north_america            4    11639.37   2909.842500   \n",
       "             oceania                  1     2105.16   2105.160000   \n",
       "             undefined                4     5327.45   1331.862500   \n",
       "...                                 ...         ...           ...   \n",
       "12           none                    82   160745.19   1960.307195   \n",
       "             north_america          264  2341628.83   8836.335208   \n",
       "             oceania                  9    49132.57   5459.174444   \n",
       "             southeast_asia          20   107379.79   5368.989500   \n",
       "             undefined              111  1341445.85  12085.097748   \n",
       "\n",
       "                             unique_contributors_mean   match_mean  \\\n",
       "round_number region                                                  \n",
       "1            europe                          3.000000   374.300000   \n",
       "             none                            5.000000   836.831875   \n",
       "             north_america                   5.500000  1686.712500   \n",
       "             oceania                         5.000000  1460.160000   \n",
       "             undefined                       4.250000   757.347500   \n",
       "...                                               ...          ...   \n",
       "12           none                           95.768293   560.032439   \n",
       "             north_america                 368.818868  5117.569585   \n",
       "             oceania                       517.000000  2555.293333   \n",
       "             southeast_asia                512.900000  1831.540000   \n",
       "             undefined                     715.126126  5448.014234   \n",
       "\n",
       "                                   mode  crowdsourced_mean  \n",
       "round_number region                                         \n",
       "1            europe           Community         100.000000  \n",
       "             none             dApp Tech         357.844375  \n",
       "             north_america   Infra Tech        1223.130000  \n",
       "             oceania         Infra Tech         645.000000  \n",
       "             undefined       Infra Tech         574.515000  \n",
       "...                                 ...                ...  \n",
       "12           none             dApp Tech        1400.274756  \n",
       "             north_america    Community        3718.765849  \n",
       "             oceania          Community        2903.882222  \n",
       "             southeast_asia        NFTs        3537.448500  \n",
       "             undefined        Community        6637.084324  \n",
       "\n",
       "[111 rows x 7 columns]"
      ]
     },
     "execution_count": 20,
     "metadata": {},
     "output_type": "execute_result"
    }
   ],
   "source": [
    "data.groupby(['round_number','region']).agg(grant_uniq=(\"grant_title\", \"nunique\"), total_sum=(\"total\", \"sum\"), total_mean=(\"total\", \"mean\"), unique_contributors_mean=(\"num_unique_contributors\", \"mean\")\n",
    "                                 ,match_mean=(\"match_amount\", \"mean\"), mode=(\"category\", lambda x:x.value_counts().index[0]),\n",
    "                                  crowdsourced_mean=(\"crowdfund_amount_contributions_usd\", \"mean\")\n",
    "                                 )"
   ]
  },
  {
   "cell_type": "markdown",
   "id": "71c0e9ee",
   "metadata": {
    "papermill": {
     "duration": 0.036759,
     "end_time": "2022-01-01T06:43:36.756916",
     "exception": false,
     "start_time": "2022-01-01T06:43:36.720157",
     "status": "completed"
    },
    "tags": []
   },
   "source": [
    "# EDA Category\n"
   ]
  },
  {
   "cell_type": "code",
   "execution_count": 21,
   "id": "c40f1971",
   "metadata": {
    "execution": {
     "iopub.execute_input": "2022-01-01T06:43:36.837902Z",
     "iopub.status.busy": "2022-01-01T06:43:36.836701Z",
     "iopub.status.idle": "2022-01-01T06:43:36.841734Z",
     "shell.execute_reply": "2022-01-01T06:43:36.841251Z"
    },
    "papermill": {
     "duration": 0.046806,
     "end_time": "2022-01-01T06:43:36.841873",
     "exception": false,
     "start_time": "2022-01-01T06:43:36.795067",
     "status": "completed"
    },
    "tags": []
   },
   "outputs": [
    {
     "data": {
      "text/plain": [
       "array(['Infra Tech', 'Community', 'dApp Tech', 'Building Gitcoin',\n",
       "       'Health', 'NFTs', 'dGov', 'Crypto for Black Lives', 'APOLLO',\n",
       "       'Matic: Build-n-Earn', 'Grants Round 12'], dtype=object)"
      ]
     },
     "execution_count": 21,
     "metadata": {},
     "output_type": "execute_result"
    }
   ],
   "source": [
    "data.category.unique()"
   ]
  },
  {
   "cell_type": "code",
   "execution_count": 22,
   "id": "8608df86",
   "metadata": {
    "execution": {
     "iopub.execute_input": "2022-01-01T06:43:36.922278Z",
     "iopub.status.busy": "2022-01-01T06:43:36.921654Z",
     "iopub.status.idle": "2022-01-01T06:43:36.925200Z",
     "shell.execute_reply": "2022-01-01T06:43:36.925671Z"
    },
    "papermill": {
     "duration": 0.045803,
     "end_time": "2022-01-01T06:43:36.925837",
     "exception": false,
     "start_time": "2022-01-01T06:43:36.880034",
     "status": "completed"
    },
    "tags": []
   },
   "outputs": [],
   "source": [
    "# 8 values for round 6\n",
    "#data[data.category=='Crypto for Black Lives']\n",
    "\n",
    "# 1 value for round 7\n",
    "#data[data.category=='Matic: Build-n-Earn']\n",
    "\n",
    "# 3 values for round 7\n",
    "#data[data.category=='APOLLO']\n",
    "\n",
    "# 29 values 2-8, 10-11\n",
    "#data[data.category=='Building Gitcoin']\n",
    "\n",
    "# 45 values from 3-10 \n",
    "#data[data.category=='Health']\n",
    "\n",
    "# 87 values 5-12\n",
    "#data[data.category=='dGov']\n",
    "\n",
    "# 94 values 12\n",
    "#data[data.category=='Grants Round 12'].count()\n",
    "\n",
    "# 434 values 5-12\n",
    "#data[data.category=='NFTs']\n",
    "\n",
    "# 938 values 1-12\n",
    "#data[data.category=='Infra Tech'].round_number.unique()\n",
    "#data[data.category=='Infra Tech'].count()\n",
    "\n",
    "# 2128 values 1-12\n",
    "#data[data.category=='dApp Tech'].round_number.unique()\n",
    "\n",
    "# 2139 values 1-12\n",
    "#data[data.category=='Community'].round_number.unique()\n",
    "#data[data.category=='Community'].count()"
   ]
  },
  {
   "cell_type": "code",
   "execution_count": 23,
   "id": "80fdfae5",
   "metadata": {
    "execution": {
     "iopub.execute_input": "2022-01-01T06:43:37.005866Z",
     "iopub.status.busy": "2022-01-01T06:43:37.005236Z",
     "iopub.status.idle": "2022-01-01T06:43:37.010079Z",
     "shell.execute_reply": "2022-01-01T06:43:37.010584Z"
    },
    "papermill": {
     "duration": 0.047336,
     "end_time": "2022-01-01T06:43:37.010753",
     "exception": false,
     "start_time": "2022-01-01T06:43:36.963417",
     "status": "completed"
    },
    "tags": []
   },
   "outputs": [],
   "source": [
    "gr12 = data[data.round_number==12]\n",
    "gr11 = data[data.round_number==11]"
   ]
  },
  {
   "cell_type": "code",
   "execution_count": 24,
   "id": "51bb92fd",
   "metadata": {
    "execution": {
     "iopub.execute_input": "2022-01-01T06:43:37.089019Z",
     "iopub.status.busy": "2022-01-01T06:43:37.088408Z",
     "iopub.status.idle": "2022-01-01T06:43:37.108920Z",
     "shell.execute_reply": "2022-01-01T06:43:37.109464Z"
    },
    "papermill": {
     "duration": 0.061285,
     "end_time": "2022-01-01T06:43:37.109634",
     "exception": false,
     "start_time": "2022-01-01T06:43:37.048349",
     "status": "completed"
    },
    "tags": []
   },
   "outputs": [
    {
     "data": {
      "text/html": [
       "<div>\n",
       "<style scoped>\n",
       "    .dataframe tbody tr th:only-of-type {\n",
       "        vertical-align: middle;\n",
       "    }\n",
       "\n",
       "    .dataframe tbody tr th {\n",
       "        vertical-align: top;\n",
       "    }\n",
       "\n",
       "    .dataframe thead th {\n",
       "        text-align: right;\n",
       "    }\n",
       "</style>\n",
       "<table border=\"1\" class=\"dataframe\">\n",
       "  <thead>\n",
       "    <tr style=\"text-align: right;\">\n",
       "      <th></th>\n",
       "      <th>round_number</th>\n",
       "      <th>round_start_date</th>\n",
       "      <th>round_end_date</th>\n",
       "      <th>grant_title</th>\n",
       "      <th>grant_id</th>\n",
       "      <th>region</th>\n",
       "      <th>category</th>\n",
       "      <th>url</th>\n",
       "      <th>match_amount</th>\n",
       "      <th>num_contributions</th>\n",
       "      <th>num_unique_contributors</th>\n",
       "      <th>crowdfund_amount_contributions_usd</th>\n",
       "      <th>total</th>\n",
       "    </tr>\n",
       "  </thead>\n",
       "  <tbody>\n",
       "    <tr>\n",
       "      <th>4094</th>\n",
       "      <td>12</td>\n",
       "      <td>2021-12-01</td>\n",
       "      <td>2021-12-16</td>\n",
       "      <td>Body Gallery</td>\n",
       "      <td>3577</td>\n",
       "      <td>undefined</td>\n",
       "      <td>NFTs</td>\n",
       "      <td>https://gitcoin.co/grants/3577/body-gallery</td>\n",
       "      <td>0.03</td>\n",
       "      <td>5</td>\n",
       "      <td>5</td>\n",
       "      <td>13.68</td>\n",
       "      <td>13.71</td>\n",
       "    </tr>\n",
       "    <tr>\n",
       "      <th>4095</th>\n",
       "      <td>12</td>\n",
       "      <td>2021-12-01</td>\n",
       "      <td>2021-12-16</td>\n",
       "      <td>SolTomm</td>\n",
       "      <td>3527</td>\n",
       "      <td>europe</td>\n",
       "      <td>NFTs</td>\n",
       "      <td>https://gitcoin.co/grants/3527/soltomm</td>\n",
       "      <td>0.03</td>\n",
       "      <td>5</td>\n",
       "      <td>5</td>\n",
       "      <td>10.41</td>\n",
       "      <td>10.43</td>\n",
       "    </tr>\n",
       "    <tr>\n",
       "      <th>4096</th>\n",
       "      <td>12</td>\n",
       "      <td>2021-12-01</td>\n",
       "      <td>2021-12-16</td>\n",
       "      <td>Fund for NFT art protection</td>\n",
       "      <td>2143</td>\n",
       "      <td>europe</td>\n",
       "      <td>NFTs</td>\n",
       "      <td>https://gitcoin.co/grants/2143/fund-for-nft-art-protection</td>\n",
       "      <td>0.03</td>\n",
       "      <td>7</td>\n",
       "      <td>7</td>\n",
       "      <td>8.62</td>\n",
       "      <td>8.65</td>\n",
       "    </tr>\n",
       "    <tr>\n",
       "      <th>4097</th>\n",
       "      <td>12</td>\n",
       "      <td>2021-12-01</td>\n",
       "      <td>2021-12-16</td>\n",
       "      <td>Alas DAO</td>\n",
       "      <td>3395</td>\n",
       "      <td>europe</td>\n",
       "      <td>Community</td>\n",
       "      <td>https://gitcoin.co/grants/3395/alas-dao</td>\n",
       "      <td>0.03</td>\n",
       "      <td>9</td>\n",
       "      <td>8</td>\n",
       "      <td>15.44</td>\n",
       "      <td>15.47</td>\n",
       "    </tr>\n",
       "    <tr>\n",
       "      <th>4098</th>\n",
       "      <td>12</td>\n",
       "      <td>2021-12-01</td>\n",
       "      <td>2021-12-16</td>\n",
       "      <td>Specie, An Impermanent Loss Solution.</td>\n",
       "      <td>3173</td>\n",
       "      <td>undefined</td>\n",
       "      <td>dApp Tech</td>\n",
       "      <td>https://gitcoin.co/grants/3173/specie-an-impermanent-loss-solution</td>\n",
       "      <td>0.03</td>\n",
       "      <td>5</td>\n",
       "      <td>5</td>\n",
       "      <td>15.72</td>\n",
       "      <td>15.75</td>\n",
       "    </tr>\n",
       "    <tr>\n",
       "      <th>...</th>\n",
       "      <td>...</td>\n",
       "      <td>...</td>\n",
       "      <td>...</td>\n",
       "      <td>...</td>\n",
       "      <td>...</td>\n",
       "      <td>...</td>\n",
       "      <td>...</td>\n",
       "      <td>...</td>\n",
       "      <td>...</td>\n",
       "      <td>...</td>\n",
       "      <td>...</td>\n",
       "      <td>...</td>\n",
       "      <td>...</td>\n",
       "    </tr>\n",
       "    <tr>\n",
       "      <th>4971</th>\n",
       "      <td>12</td>\n",
       "      <td>2021-12-01</td>\n",
       "      <td>2021-12-16</td>\n",
       "      <td>Arweave PermPic</td>\n",
       "      <td>3410</td>\n",
       "      <td>north_america</td>\n",
       "      <td>NFTs</td>\n",
       "      <td>https://gitcoin.co/grants/3410/arweave-permpic</td>\n",
       "      <td>0.00</td>\n",
       "      <td>1</td>\n",
       "      <td>1</td>\n",
       "      <td>1.92</td>\n",
       "      <td>1.92</td>\n",
       "    </tr>\n",
       "    <tr>\n",
       "      <th>4972</th>\n",
       "      <td>12</td>\n",
       "      <td>2021-12-01</td>\n",
       "      <td>2021-12-16</td>\n",
       "      <td>ETH123.org</td>\n",
       "      <td>1598</td>\n",
       "      <td>east_asia</td>\n",
       "      <td>Community</td>\n",
       "      <td>https://gitcoin.co/grants/1598/eth123org</td>\n",
       "      <td>0.00</td>\n",
       "      <td>1</td>\n",
       "      <td>1</td>\n",
       "      <td>1.10</td>\n",
       "      <td>1.10</td>\n",
       "    </tr>\n",
       "    <tr>\n",
       "      <th>4973</th>\n",
       "      <td>12</td>\n",
       "      <td>2021-12-01</td>\n",
       "      <td>2021-12-16</td>\n",
       "      <td>ADOR</td>\n",
       "      <td>438</td>\n",
       "      <td>north_america</td>\n",
       "      <td>dApp Tech</td>\n",
       "      <td>https://gitcoin.co/grants/438/ador</td>\n",
       "      <td>0.00</td>\n",
       "      <td>1</td>\n",
       "      <td>1</td>\n",
       "      <td>1.00</td>\n",
       "      <td>1.00</td>\n",
       "    </tr>\n",
       "    <tr>\n",
       "      <th>4974</th>\n",
       "      <td>12</td>\n",
       "      <td>2021-12-01</td>\n",
       "      <td>2021-12-16</td>\n",
       "      <td>Altcoin Author Crypto Podcast/Newsletter - #ETHisMoney Advancement</td>\n",
       "      <td>571</td>\n",
       "      <td>north_america</td>\n",
       "      <td>Community</td>\n",
       "      <td>https://gitcoin.co/grants/571/altcoin-author-crypto-podcastnewsletter-ethismone</td>\n",
       "      <td>0.00</td>\n",
       "      <td>1</td>\n",
       "      <td>1</td>\n",
       "      <td>6.45</td>\n",
       "      <td>6.45</td>\n",
       "    </tr>\n",
       "    <tr>\n",
       "      <th>4975</th>\n",
       "      <td>12</td>\n",
       "      <td>2021-12-01</td>\n",
       "      <td>2021-12-16</td>\n",
       "      <td>Coin Center is educating policy makers about public blockchains</td>\n",
       "      <td>1668</td>\n",
       "      <td>north_america</td>\n",
       "      <td>Community</td>\n",
       "      <td>https://gitcoin.co/grants/1668/coin-center-is-educating-policy-makers-about-publ</td>\n",
       "      <td>340000.00</td>\n",
       "      <td>6914</td>\n",
       "      <td>5727</td>\n",
       "      <td>103838.93</td>\n",
       "      <td>443838.93</td>\n",
       "    </tr>\n",
       "  </tbody>\n",
       "</table>\n",
       "<p>882 rows × 13 columns</p>\n",
       "</div>"
      ],
      "text/plain": [
       "      round_number round_start_date round_end_date  \\\n",
       "4094            12       2021-12-01     2021-12-16   \n",
       "4095            12       2021-12-01     2021-12-16   \n",
       "4096            12       2021-12-01     2021-12-16   \n",
       "4097            12       2021-12-01     2021-12-16   \n",
       "4098            12       2021-12-01     2021-12-16   \n",
       "...            ...              ...            ...   \n",
       "4971            12       2021-12-01     2021-12-16   \n",
       "4972            12       2021-12-01     2021-12-16   \n",
       "4973            12       2021-12-01     2021-12-16   \n",
       "4974            12       2021-12-01     2021-12-16   \n",
       "4975            12       2021-12-01     2021-12-16   \n",
       "\n",
       "                                                             grant_title  \\\n",
       "4094                                                        Body Gallery   \n",
       "4095                                                             SolTomm   \n",
       "4096                                         Fund for NFT art protection   \n",
       "4097                                                            Alas DAO   \n",
       "4098                               Specie, An Impermanent Loss Solution.   \n",
       "...                                                                  ...   \n",
       "4971                                                     Arweave PermPic   \n",
       "4972                                                          ETH123.org   \n",
       "4973                                                                ADOR   \n",
       "4974  Altcoin Author Crypto Podcast/Newsletter - #ETHisMoney Advancement   \n",
       "4975     Coin Center is educating policy makers about public blockchains   \n",
       "\n",
       "      grant_id         region   category  \\\n",
       "4094      3577      undefined       NFTs   \n",
       "4095      3527         europe       NFTs   \n",
       "4096      2143         europe       NFTs   \n",
       "4097      3395         europe  Community   \n",
       "4098      3173      undefined  dApp Tech   \n",
       "...        ...            ...        ...   \n",
       "4971      3410  north_america       NFTs   \n",
       "4972      1598      east_asia  Community   \n",
       "4973       438  north_america  dApp Tech   \n",
       "4974       571  north_america  Community   \n",
       "4975      1668  north_america  Community   \n",
       "\n",
       "                                                                                   url  \\\n",
       "4094                                       https://gitcoin.co/grants/3577/body-gallery   \n",
       "4095                                            https://gitcoin.co/grants/3527/soltomm   \n",
       "4096                        https://gitcoin.co/grants/2143/fund-for-nft-art-protection   \n",
       "4097                                           https://gitcoin.co/grants/3395/alas-dao   \n",
       "4098                https://gitcoin.co/grants/3173/specie-an-impermanent-loss-solution   \n",
       "...                                                                                ...   \n",
       "4971                                    https://gitcoin.co/grants/3410/arweave-permpic   \n",
       "4972                                          https://gitcoin.co/grants/1598/eth123org   \n",
       "4973                                                https://gitcoin.co/grants/438/ador   \n",
       "4974   https://gitcoin.co/grants/571/altcoin-author-crypto-podcastnewsletter-ethismone   \n",
       "4975  https://gitcoin.co/grants/1668/coin-center-is-educating-policy-makers-about-publ   \n",
       "\n",
       "      match_amount  num_contributions  num_unique_contributors  \\\n",
       "4094          0.03                  5                        5   \n",
       "4095          0.03                  5                        5   \n",
       "4096          0.03                  7                        7   \n",
       "4097          0.03                  9                        8   \n",
       "4098          0.03                  5                        5   \n",
       "...            ...                ...                      ...   \n",
       "4971          0.00                  1                        1   \n",
       "4972          0.00                  1                        1   \n",
       "4973          0.00                  1                        1   \n",
       "4974          0.00                  1                        1   \n",
       "4975     340000.00               6914                     5727   \n",
       "\n",
       "      crowdfund_amount_contributions_usd      total  \n",
       "4094                               13.68      13.71  \n",
       "4095                               10.41      10.43  \n",
       "4096                                8.62       8.65  \n",
       "4097                               15.44      15.47  \n",
       "4098                               15.72      15.75  \n",
       "...                                  ...        ...  \n",
       "4971                                1.92       1.92  \n",
       "4972                                1.10       1.10  \n",
       "4973                                1.00       1.00  \n",
       "4974                                6.45       6.45  \n",
       "4975                           103838.93  443838.93  \n",
       "\n",
       "[882 rows x 13 columns]"
      ]
     },
     "execution_count": 24,
     "metadata": {},
     "output_type": "execute_result"
    }
   ],
   "source": [
    "gr12"
   ]
  },
  {
   "cell_type": "code",
   "execution_count": 25,
   "id": "9a2cb7ed",
   "metadata": {
    "execution": {
     "iopub.execute_input": "2022-01-01T06:43:37.188902Z",
     "iopub.status.busy": "2022-01-01T06:43:37.188318Z",
     "iopub.status.idle": "2022-01-01T06:43:37.194747Z",
     "shell.execute_reply": "2022-01-01T06:43:37.195239Z"
    },
    "papermill": {
     "duration": 0.04754,
     "end_time": "2022-01-01T06:43:37.195446",
     "exception": false,
     "start_time": "2022-01-01T06:43:37.147906",
     "status": "completed"
    },
    "tags": []
   },
   "outputs": [
    {
     "data": {
      "text/plain": [
       "Community          319\n",
       "dApp Tech          233\n",
       "Infra Tech         115\n",
       "NFTs               100\n",
       "Grants Round 12     89\n",
       "dGov                26\n",
       "Name: category, dtype: int64"
      ]
     },
     "execution_count": 25,
     "metadata": {},
     "output_type": "execute_result"
    }
   ],
   "source": [
    "gr12.category.value_counts()"
   ]
  },
  {
   "cell_type": "code",
   "execution_count": 26,
   "id": "87024a70",
   "metadata": {
    "execution": {
     "iopub.execute_input": "2022-01-01T06:43:37.277395Z",
     "iopub.status.busy": "2022-01-01T06:43:37.276795Z",
     "iopub.status.idle": "2022-01-01T06:43:37.284120Z",
     "shell.execute_reply": "2022-01-01T06:43:37.284621Z"
    },
    "papermill": {
     "duration": 0.049796,
     "end_time": "2022-01-01T06:43:37.284785",
     "exception": false,
     "start_time": "2022-01-01T06:43:37.234989",
     "status": "completed"
    },
    "tags": []
   },
   "outputs": [
    {
     "data": {
      "text/plain": [
       "category\n",
       "Building Gitcoin     49823.43\n",
       "Community           181311.60\n",
       "Infra Tech          230912.95\n",
       "NFTs                140427.31\n",
       "dApp Tech           267051.52\n",
       "dGov                 60228.46\n",
       "Name: match_amount, dtype: float64"
      ]
     },
     "execution_count": 26,
     "metadata": {},
     "output_type": "execute_result"
    }
   ],
   "source": [
    "gr11.groupby('category').match_amount.sum()"
   ]
  },
  {
   "cell_type": "code",
   "execution_count": 27,
   "id": "08bc0f78",
   "metadata": {
    "execution": {
     "iopub.execute_input": "2022-01-01T06:43:37.366967Z",
     "iopub.status.busy": "2022-01-01T06:43:37.366332Z",
     "iopub.status.idle": "2022-01-01T06:43:37.373081Z",
     "shell.execute_reply": "2022-01-01T06:43:37.373547Z"
    },
    "papermill": {
     "duration": 0.048714,
     "end_time": "2022-01-01T06:43:37.373708",
     "exception": false,
     "start_time": "2022-01-01T06:43:37.324994",
     "status": "completed"
    },
    "tags": []
   },
   "outputs": [
    {
     "data": {
      "text/plain": [
       "category\n",
       "Community          1336767.34\n",
       "Grants Round 12     581587.61\n",
       "Infra Tech          391547.45\n",
       "NFTs                128935.04\n",
       "dApp Tech           602007.96\n",
       "dGov                 49723.74\n",
       "Name: match_amount, dtype: float64"
      ]
     },
     "execution_count": 27,
     "metadata": {},
     "output_type": "execute_result"
    }
   ],
   "source": [
    "gr12.groupby('category').match_amount.sum()"
   ]
  },
  {
   "cell_type": "markdown",
   "id": "a2a7597c",
   "metadata": {
    "papermill": {
     "duration": 0.039105,
     "end_time": "2022-01-01T06:43:37.451985",
     "exception": false,
     "start_time": "2022-01-01T06:43:37.412880",
     "status": "completed"
    },
    "tags": []
   },
   "source": [
    "# By 11 Round comparison between pots"
   ]
  },
  {
   "cell_type": "code",
   "execution_count": 28,
   "id": "b47c1c26",
   "metadata": {
    "execution": {
     "iopub.execute_input": "2022-01-01T06:43:37.536293Z",
     "iopub.status.busy": "2022-01-01T06:43:37.533684Z",
     "iopub.status.idle": "2022-01-01T06:43:37.541483Z",
     "shell.execute_reply": "2022-01-01T06:43:37.541944Z"
    },
    "papermill": {
     "duration": 0.05094,
     "end_time": "2022-01-01T06:43:37.542125",
     "exception": false,
     "start_time": "2022-01-01T06:43:37.491185",
     "status": "completed"
    },
    "tags": []
   },
   "outputs": [
    {
     "data": {
      "text/plain": [
       "category\n",
       "Building Gitcoin     49823.43\n",
       "Community           181311.60\n",
       "Infra Tech          230912.95\n",
       "NFTs                140427.31\n",
       "dApp Tech           267051.52\n",
       "dGov                 60228.46\n",
       "Name: match_amount, dtype: float64"
      ]
     },
     "execution_count": 28,
     "metadata": {},
     "output_type": "execute_result"
    }
   ],
   "source": [
    "gr11.groupby('category').match_amount.sum()"
   ]
  },
  {
   "cell_type": "code",
   "execution_count": 29,
   "id": "668e490a",
   "metadata": {
    "execution": {
     "iopub.execute_input": "2022-01-01T06:43:37.629750Z",
     "iopub.status.busy": "2022-01-01T06:43:37.629042Z",
     "iopub.status.idle": "2022-01-01T06:43:37.631396Z",
     "shell.execute_reply": "2022-01-01T06:43:37.631827Z"
    },
    "papermill": {
     "duration": 0.050334,
     "end_time": "2022-01-01T06:43:37.631986",
     "exception": false,
     "start_time": "2022-01-01T06:43:37.581652",
     "status": "completed"
    },
    "tags": []
   },
   "outputs": [
    {
     "data": {
      "text/plain": [
       "region\n",
       "africa             76441.60\n",
       "east_asia          77888.37\n",
       "europe            136010.17\n",
       "india              21233.65\n",
       "latin_america      94949.62\n",
       "middle_east         5631.16\n",
       "none               99688.65\n",
       "north_america     204442.08\n",
       "oceania            37333.82\n",
       "southeast_asia     49653.73\n",
       "undefined         126482.42\n",
       "Name: match_amount, dtype: float64"
      ]
     },
     "execution_count": 29,
     "metadata": {},
     "output_type": "execute_result"
    }
   ],
   "source": [
    "gr11.groupby('region').match_amount.sum()"
   ]
  },
  {
   "cell_type": "code",
   "execution_count": 30,
   "id": "89e4287a",
   "metadata": {
    "execution": {
     "iopub.execute_input": "2022-01-01T06:43:37.715338Z",
     "iopub.status.busy": "2022-01-01T06:43:37.714647Z",
     "iopub.status.idle": "2022-01-01T06:43:37.724203Z",
     "shell.execute_reply": "2022-01-01T06:43:37.724650Z"
    },
    "papermill": {
     "duration": 0.052967,
     "end_time": "2022-01-01T06:43:37.724832",
     "exception": false,
     "start_time": "2022-01-01T06:43:37.671865",
     "status": "completed"
    },
    "tags": []
   },
   "outputs": [],
   "source": [
    "a = gr11.groupby(['region']).agg({\"match_amount\": [np.mean, np.sum],\"total\": [np.mean, np.sum], \"round_number\": np.count_nonzero})"
   ]
  },
  {
   "cell_type": "code",
   "execution_count": 31,
   "id": "91a3bffb",
   "metadata": {
    "execution": {
     "iopub.execute_input": "2022-01-01T06:43:37.808388Z",
     "iopub.status.busy": "2022-01-01T06:43:37.807735Z",
     "iopub.status.idle": "2022-01-01T06:43:37.814813Z",
     "shell.execute_reply": "2022-01-01T06:43:37.815285Z"
    },
    "papermill": {
     "duration": 0.050601,
     "end_time": "2022-01-01T06:43:37.815449",
     "exception": false,
     "start_time": "2022-01-01T06:43:37.764848",
     "status": "completed"
    },
    "tags": []
   },
   "outputs": [
    {
     "data": {
      "text/plain": [
       "region\n",
       "africa            0.778355\n",
       "east_asia         0.341072\n",
       "europe            0.364336\n",
       "india             0.363788\n",
       "latin_america     0.500804\n",
       "middle_east       0.236351\n",
       "none              0.448658\n",
       "north_america     0.371536\n",
       "oceania           0.619400\n",
       "southeast_asia    0.602428\n",
       "undefined         0.313694\n",
       "dtype: float64"
      ]
     },
     "execution_count": 31,
     "metadata": {},
     "output_type": "execute_result"
    }
   ],
   "source": [
    "a[('match_amount','sum')] / (a[('total','sum')])"
   ]
  },
  {
   "cell_type": "markdown",
   "id": "ed2f558a",
   "metadata": {
    "papermill": {
     "duration": 0.040528,
     "end_time": "2022-01-01T06:43:37.896685",
     "exception": false,
     "start_time": "2022-01-01T06:43:37.856157",
     "status": "completed"
    },
    "tags": []
   },
   "source": [
    "Its clear that oversubsidized is Africa\n",
    "and Under is Middle East"
   ]
  },
  {
   "cell_type": "code",
   "execution_count": 32,
   "id": "7f116ed7",
   "metadata": {
    "execution": {
     "iopub.execute_input": "2022-01-01T06:43:37.982133Z",
     "iopub.status.busy": "2022-01-01T06:43:37.981518Z",
     "iopub.status.idle": "2022-01-01T06:43:37.990662Z",
     "shell.execute_reply": "2022-01-01T06:43:37.991124Z"
    },
    "papermill": {
     "duration": 0.053438,
     "end_time": "2022-01-01T06:43:37.991306",
     "exception": false,
     "start_time": "2022-01-01T06:43:37.937868",
     "status": "completed"
    },
    "tags": []
   },
   "outputs": [],
   "source": [
    "a2 = gr11.groupby(['category']).agg({\"match_amount\": [np.mean, np.sum],\"total\": [np.mean, np.sum], \"round_number\": np.count_nonzero})"
   ]
  },
  {
   "cell_type": "code",
   "execution_count": 33,
   "id": "e55bc0e6",
   "metadata": {
    "execution": {
     "iopub.execute_input": "2022-01-01T06:43:38.076021Z",
     "iopub.status.busy": "2022-01-01T06:43:38.075436Z",
     "iopub.status.idle": "2022-01-01T06:43:38.081979Z",
     "shell.execute_reply": "2022-01-01T06:43:38.082392Z"
    },
    "papermill": {
     "duration": 0.050747,
     "end_time": "2022-01-01T06:43:38.082569",
     "exception": false,
     "start_time": "2022-01-01T06:43:38.031822",
     "status": "completed"
    },
    "tags": []
   },
   "outputs": [
    {
     "data": {
      "text/plain": [
       "category\n",
       "Building Gitcoin    0.529064\n",
       "Community           0.371018\n",
       "Infra Tech          0.404686\n",
       "NFTs                0.427426\n",
       "dApp Tech           0.371647\n",
       "dGov                0.673207\n",
       "dtype: float64"
      ]
     },
     "execution_count": 33,
     "metadata": {},
     "output_type": "execute_result"
    }
   ],
   "source": [
    "a2[('match_amount','sum')] / (a2[('total','sum')])"
   ]
  },
  {
   "cell_type": "markdown",
   "id": "51db20e3",
   "metadata": {
    "papermill": {
     "duration": 0.040635,
     "end_time": "2022-01-01T06:43:38.164040",
     "exception": false,
     "start_time": "2022-01-01T06:43:38.123405",
     "status": "completed"
    },
    "tags": []
   },
   "source": [
    "under is Community and Dapp Tech while over is dGov"
   ]
  },
  {
   "cell_type": "code",
   "execution_count": null,
   "id": "a76b0bc7",
   "metadata": {
    "papermill": {
     "duration": 0.04093,
     "end_time": "2022-01-01T06:43:38.245673",
     "exception": false,
     "start_time": "2022-01-01T06:43:38.204743",
     "status": "completed"
    },
    "tags": []
   },
   "outputs": [],
   "source": []
  }
 ],
 "metadata": {
  "kernelspec": {
   "display_name": "Python 3",
   "language": "python",
   "name": "python3"
  },
  "language_info": {
   "codemirror_mode": {
    "name": "ipython",
    "version": 3
   },
   "file_extension": ".py",
   "mimetype": "text/x-python",
   "name": "python",
   "nbconvert_exporter": "python",
   "pygments_lexer": "ipython3",
   "version": "3.7.12"
  },
  "papermill": {
   "default_parameters": {},
   "duration": 20.796152,
   "end_time": "2022-01-01T06:43:39.096944",
   "environment_variables": {},
   "exception": null,
   "input_path": "__notebook__.ipynb",
   "output_path": "__notebook__.ipynb",
   "parameters": {},
   "start_time": "2022-01-01T06:43:18.300792",
   "version": "2.3.3"
  }
 },
 "nbformat": 4,
 "nbformat_minor": 5
}
